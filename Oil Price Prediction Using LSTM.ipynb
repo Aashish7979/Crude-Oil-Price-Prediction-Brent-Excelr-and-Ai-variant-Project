{
 "cells": [
  {
   "cell_type": "code",
   "execution_count": 1,
   "metadata": {
    "colab": {
     "base_uri": "https://localhost:8080/"
    },
    "id": "cC5WqWXyVn2M",
    "outputId": "18301fb4-ac61-41cf-fcf9-38b302cd0b16"
   },
   "outputs": [],
   "source": [
    "#pip install quandl"
   ]
  },
  {
   "cell_type": "code",
   "execution_count": 2,
   "metadata": {
    "colab": {
     "base_uri": "https://localhost:8080/"
    },
    "id": "8bs85PuBVhom",
    "outputId": "9335f7be-bd51-4bd7-c5fd-98e1da0d2697"
   },
   "outputs": [],
   "source": [
    "%matplotlib inline\n",
    "import matplotlib\n",
    "import seaborn as sns\n",
    "import quandl\n",
    "import numpy as np\n",
    "import scipy as sp\n",
    "import pandas as pd\n",
    "import numpy as np\n",
    "import matplotlib.pyplot as plt\n",
    "import statsmodels.api\n",
    "import string\n",
    "import spacy\n",
    "import requests\n",
    "from csv import writer\n",
    "from bs4 import BeautifulSoup\n",
    "import seaborn as sns\n",
    "import statsmodels.formula.api as sm\n",
    "import sklearn.linear_model\n",
    "import sklearn.metrics\n",
    "import statsmodels.api as sm\n",
    "import matplotlib.pyplot as plt\n",
    "import matplotlib.pylab as pylab\n",
    "params = {'legend.fontsize': 'xx-large',\n",
    "          'figure.figsize': (10, 7),\n",
    "         'axes.labelsize': 'xx-large',\n",
    "         'axes.titlesize':'xx-large',\n",
    "         'xtick.labelsize':'xx-large',\n",
    "         'ytick.labelsize':'xx-large'}\n",
    "pylab.rcParams.update(params)\n",
    "import warnings\n",
    "warnings.filterwarnings('ignore')\n",
    "from sklearn.metrics import mean_absolute_percentage_error"
   ]
  },
  {
   "cell_type": "code",
   "execution_count": 3,
   "metadata": {
    "colab": {
     "base_uri": "https://localhost:8080/",
     "height": 424
    },
    "id": "Sd1_TarZViYb",
    "outputId": "f5cd06c8-e184-4c7d-d7b5-1b410981576f"
   },
   "outputs": [
    {
     "data": {
      "text/html": [
       "<div>\n",
       "<style scoped>\n",
       "    .dataframe tbody tr th:only-of-type {\n",
       "        vertical-align: middle;\n",
       "    }\n",
       "\n",
       "    .dataframe tbody tr th {\n",
       "        vertical-align: top;\n",
       "    }\n",
       "\n",
       "    .dataframe thead th {\n",
       "        text-align: right;\n",
       "    }\n",
       "</style>\n",
       "<table border=\"1\" class=\"dataframe\">\n",
       "  <thead>\n",
       "    <tr style=\"text-align: right;\">\n",
       "      <th></th>\n",
       "      <th>Date</th>\n",
       "      <th>SpotPrice</th>\n",
       "    </tr>\n",
       "  </thead>\n",
       "  <tbody>\n",
       "    <tr>\n",
       "      <th>0</th>\n",
       "      <td>2016-10-03</td>\n",
       "      <td>48.61</td>\n",
       "    </tr>\n",
       "    <tr>\n",
       "      <th>1</th>\n",
       "      <td>2016-10-04</td>\n",
       "      <td>48.81</td>\n",
       "    </tr>\n",
       "    <tr>\n",
       "      <th>2</th>\n",
       "      <td>2016-10-05</td>\n",
       "      <td>49.57</td>\n",
       "    </tr>\n",
       "    <tr>\n",
       "      <th>3</th>\n",
       "      <td>2016-10-06</td>\n",
       "      <td>50.14</td>\n",
       "    </tr>\n",
       "    <tr>\n",
       "      <th>4</th>\n",
       "      <td>2016-10-07</td>\n",
       "      <td>50.49</td>\n",
       "    </tr>\n",
       "    <tr>\n",
       "      <th>...</th>\n",
       "      <td>...</td>\n",
       "      <td>...</td>\n",
       "    </tr>\n",
       "    <tr>\n",
       "      <th>1304</th>\n",
       "      <td>2021-11-16</td>\n",
       "      <td>82.85</td>\n",
       "    </tr>\n",
       "    <tr>\n",
       "      <th>1305</th>\n",
       "      <td>2021-11-17</td>\n",
       "      <td>80.67</td>\n",
       "    </tr>\n",
       "    <tr>\n",
       "      <th>1306</th>\n",
       "      <td>2021-11-18</td>\n",
       "      <td>82.45</td>\n",
       "    </tr>\n",
       "    <tr>\n",
       "      <th>1307</th>\n",
       "      <td>2021-11-19</td>\n",
       "      <td>80.24</td>\n",
       "    </tr>\n",
       "    <tr>\n",
       "      <th>1308</th>\n",
       "      <td>2021-11-22</td>\n",
       "      <td>80.97</td>\n",
       "    </tr>\n",
       "  </tbody>\n",
       "</table>\n",
       "<p>1309 rows × 2 columns</p>\n",
       "</div>"
      ],
      "text/plain": [
       "           Date  SpotPrice\n",
       "0    2016-10-03      48.61\n",
       "1    2016-10-04      48.81\n",
       "2    2016-10-05      49.57\n",
       "3    2016-10-06      50.14\n",
       "4    2016-10-07      50.49\n",
       "...         ...        ...\n",
       "1304 2021-11-16      82.85\n",
       "1305 2021-11-17      80.67\n",
       "1306 2021-11-18      82.45\n",
       "1307 2021-11-19      80.24\n",
       "1308 2021-11-22      80.97\n",
       "\n",
       "[1309 rows x 2 columns]"
      ]
     },
     "execution_count": 3,
     "metadata": {},
     "output_type": "execute_result"
    }
   ],
   "source": [
    "data=pd.read_excel(\"Brent.xls\")\n",
    "data"
   ]
  },
  {
   "cell_type": "code",
   "execution_count": 4,
   "metadata": {
    "id": "L1z7d2e1WvXc"
   },
   "outputs": [],
   "source": [
    "data.set_index('Date',inplace=True)"
   ]
  },
  {
   "cell_type": "code",
   "execution_count": 5,
   "metadata": {
    "colab": {
     "base_uri": "https://localhost:8080/",
     "height": 455
    },
    "id": "_BIRRS1vWyFB",
    "outputId": "99c9b622-0a47-454a-ffbe-2735ee68973b"
   },
   "outputs": [
    {
     "data": {
      "text/html": [
       "<div>\n",
       "<style scoped>\n",
       "    .dataframe tbody tr th:only-of-type {\n",
       "        vertical-align: middle;\n",
       "    }\n",
       "\n",
       "    .dataframe tbody tr th {\n",
       "        vertical-align: top;\n",
       "    }\n",
       "\n",
       "    .dataframe thead th {\n",
       "        text-align: right;\n",
       "    }\n",
       "</style>\n",
       "<table border=\"1\" class=\"dataframe\">\n",
       "  <thead>\n",
       "    <tr style=\"text-align: right;\">\n",
       "      <th></th>\n",
       "      <th>SpotPrice</th>\n",
       "    </tr>\n",
       "    <tr>\n",
       "      <th>Date</th>\n",
       "      <th></th>\n",
       "    </tr>\n",
       "  </thead>\n",
       "  <tbody>\n",
       "    <tr>\n",
       "      <th>2016-10-03</th>\n",
       "      <td>48.61</td>\n",
       "    </tr>\n",
       "    <tr>\n",
       "      <th>2016-10-04</th>\n",
       "      <td>48.81</td>\n",
       "    </tr>\n",
       "    <tr>\n",
       "      <th>2016-10-05</th>\n",
       "      <td>49.57</td>\n",
       "    </tr>\n",
       "    <tr>\n",
       "      <th>2016-10-06</th>\n",
       "      <td>50.14</td>\n",
       "    </tr>\n",
       "    <tr>\n",
       "      <th>2016-10-07</th>\n",
       "      <td>50.49</td>\n",
       "    </tr>\n",
       "    <tr>\n",
       "      <th>...</th>\n",
       "      <td>...</td>\n",
       "    </tr>\n",
       "    <tr>\n",
       "      <th>2021-11-16</th>\n",
       "      <td>82.85</td>\n",
       "    </tr>\n",
       "    <tr>\n",
       "      <th>2021-11-17</th>\n",
       "      <td>80.67</td>\n",
       "    </tr>\n",
       "    <tr>\n",
       "      <th>2021-11-18</th>\n",
       "      <td>82.45</td>\n",
       "    </tr>\n",
       "    <tr>\n",
       "      <th>2021-11-19</th>\n",
       "      <td>80.24</td>\n",
       "    </tr>\n",
       "    <tr>\n",
       "      <th>2021-11-22</th>\n",
       "      <td>80.97</td>\n",
       "    </tr>\n",
       "  </tbody>\n",
       "</table>\n",
       "<p>1309 rows × 1 columns</p>\n",
       "</div>"
      ],
      "text/plain": [
       "            SpotPrice\n",
       "Date                 \n",
       "2016-10-03      48.61\n",
       "2016-10-04      48.81\n",
       "2016-10-05      49.57\n",
       "2016-10-06      50.14\n",
       "2016-10-07      50.49\n",
       "...               ...\n",
       "2021-11-16      82.85\n",
       "2021-11-17      80.67\n",
       "2021-11-18      82.45\n",
       "2021-11-19      80.24\n",
       "2021-11-22      80.97\n",
       "\n",
       "[1309 rows x 1 columns]"
      ]
     },
     "execution_count": 5,
     "metadata": {},
     "output_type": "execute_result"
    }
   ],
   "source": [
    "data"
   ]
  },
  {
   "cell_type": "code",
   "execution_count": 6,
   "metadata": {
    "colab": {
     "base_uri": "https://localhost:8080/",
     "height": 436
    },
    "id": "JNOFPISnW0kZ",
    "outputId": "3a49e07d-be3c-4048-d3f3-17a7f3feba2f"
   },
   "outputs": [
    {
     "data": {
      "image/png": "[encoded data removed]",
      "text/plain": [
       "<Figure size 720x504 with 1 Axes>"
      ]
     },
     "metadata": {
      "needs_background": "light"
     },
     "output_type": "display_data"
    }
   ],
   "source": [
    "#Boxplot showing outliers\n",
    "data.boxplot(column='SpotPrice')\n",
    "plt.show()"
   ]
  },
  {
   "cell_type": "code",
   "execution_count": 7,
   "metadata": {
    "colab": {
     "base_uri": "https://localhost:8080/",
     "height": 454
    },
    "id": "JtZlqnHvW22w",
    "outputId": "ea397c4a-ebd4-4b67-979a-44c0f3fc2940"
   },
   "outputs": [
    {
     "data": {
      "text/plain": [
       "<AxesSubplot:ylabel='Density'>"
      ]
     },
     "execution_count": 7,
     "metadata": {},
     "output_type": "execute_result"
    },
    {
     "data": {
      "image/png": "[encoded data removed]",
      "text/plain": [
       "<Figure size 720x504 with 1 Axes>"
      ]
     },
     "metadata": {
      "needs_background": "light"
     },
     "output_type": "display_data"
    }
   ],
   "source": [
    "#Left Skewed data\n",
    "sns.distplot(data)"
   ]
  },
  {
   "cell_type": "code",
   "execution_count": 8,
   "metadata": {
    "id": "saqb9CpnW5Oc"
   },
   "outputs": [],
   "source": [
    "from scipy.stats import boxcox "
   ]
  },
  {
   "cell_type": "code",
   "execution_count": 9,
   "metadata": {
    "id": "SCtQgmRZW7l5"
   },
   "outputs": [],
   "source": [
    "for i in data:\n",
    "    data[i],lmbda=boxcox(data[i], lmbda=None)"
   ]
  },
  {
   "cell_type": "code",
   "execution_count": 10,
   "metadata": {
    "colab": {
     "base_uri": "https://localhost:8080/",
     "height": 455
    },
    "id": "XKb4YtB4W9if",
    "outputId": "9b1ad9cc-f29d-4631-fc61-570228c6dd2a"
   },
   "outputs": [
    {
     "data": {
      "text/html": [
       "<div>\n",
       "<style scoped>\n",
       "    .dataframe tbody tr th:only-of-type {\n",
       "        vertical-align: middle;\n",
       "    }\n",
       "\n",
       "    .dataframe tbody tr th {\n",
       "        vertical-align: top;\n",
       "    }\n",
       "\n",
       "    .dataframe thead th {\n",
       "        text-align: right;\n",
       "    }\n",
       "</style>\n",
       "<table border=\"1\" class=\"dataframe\">\n",
       "  <thead>\n",
       "    <tr style=\"text-align: right;\">\n",
       "      <th></th>\n",
       "      <th>SpotPrice</th>\n",
       "    </tr>\n",
       "    <tr>\n",
       "      <th>Date</th>\n",
       "      <th></th>\n",
       "    </tr>\n",
       "  </thead>\n",
       "  <tbody>\n",
       "    <tr>\n",
       "      <th>2016-10-03</th>\n",
       "      <td>553.397368</td>\n",
       "    </tr>\n",
       "    <tr>\n",
       "      <th>2016-10-04</th>\n",
       "      <td>557.447404</td>\n",
       "    </tr>\n",
       "    <tr>\n",
       "      <th>2016-10-05</th>\n",
       "      <td>572.954788</td>\n",
       "    </tr>\n",
       "    <tr>\n",
       "      <th>2016-10-06</th>\n",
       "      <td>584.706869</td>\n",
       "    </tr>\n",
       "    <tr>\n",
       "      <th>2016-10-07</th>\n",
       "      <td>591.974553</td>\n",
       "    </tr>\n",
       "    <tr>\n",
       "      <th>...</th>\n",
       "      <td>...</td>\n",
       "    </tr>\n",
       "    <tr>\n",
       "      <th>2021-11-16</th>\n",
       "      <td>1426.055451</td>\n",
       "    </tr>\n",
       "    <tr>\n",
       "      <th>2021-11-17</th>\n",
       "      <td>1360.137800</td>\n",
       "    </tr>\n",
       "    <tr>\n",
       "      <th>2021-11-18</th>\n",
       "      <td>1413.858611</td>\n",
       "    </tr>\n",
       "    <tr>\n",
       "      <th>2021-11-19</th>\n",
       "      <td>1347.296577</td>\n",
       "    </tr>\n",
       "    <tr>\n",
       "      <th>2021-11-22</th>\n",
       "      <td>1369.128241</td>\n",
       "    </tr>\n",
       "  </tbody>\n",
       "</table>\n",
       "<p>1309 rows × 1 columns</p>\n",
       "</div>"
      ],
      "text/plain": [
       "              SpotPrice\n",
       "Date                   \n",
       "2016-10-03   553.397368\n",
       "2016-10-04   557.447404\n",
       "2016-10-05   572.954788\n",
       "2016-10-06   584.706869\n",
       "2016-10-07   591.974553\n",
       "...                 ...\n",
       "2021-11-16  1426.055451\n",
       "2021-11-17  1360.137800\n",
       "2021-11-18  1413.858611\n",
       "2021-11-19  1347.296577\n",
       "2021-11-22  1369.128241\n",
       "\n",
       "[1309 rows x 1 columns]"
      ]
     },
     "execution_count": 10,
     "metadata": {},
     "output_type": "execute_result"
    }
   ],
   "source": [
    "data"
   ]
  },
  {
   "cell_type": "code",
   "execution_count": 11,
   "metadata": {
    "colab": {
     "base_uri": "https://localhost:8080/",
     "height": 454
    },
    "id": "oBoR2sf4W_b9",
    "outputId": "ddc3e803-ccc5-4c9a-de80-22943b7712f2"
   },
   "outputs": [
    {
     "data": {
      "text/plain": [
       "<AxesSubplot:ylabel='Density'>"
      ]
     },
     "execution_count": 11,
     "metadata": {},
     "output_type": "execute_result"
    },
    {
     "data": {
      "image/png": "[encoded data removed]",
      "text/plain": [
       "<Figure size 720x504 with 1 Axes>"
      ]
     },
     "metadata": {
      "needs_background": "light"
     },
     "output_type": "display_data"
    }
   ],
   "source": [
    "sns.distplot(data)"
   ]
  },
  {
   "cell_type": "code",
   "execution_count": 12,
   "metadata": {
    "colab": {
     "base_uri": "https://localhost:8080/",
     "height": 476
    },
    "id": "vhVHgt-5XBH7",
    "outputId": "43792a97-1ce6-42de-dfb8-07ea91ef11a2"
   },
   "outputs": [
    {
     "data": {
      "text/plain": [
       "<AxesSubplot:xlabel='SpotPrice'>"
      ]
     },
     "execution_count": 12,
     "metadata": {},
     "output_type": "execute_result"
    },
    {
     "data": {
      "image/png": "[encoded data removed]",
      "text/plain": [
       "<Figure size 720x504 with 1 Axes>"
      ]
     },
     "metadata": {
      "needs_background": "light"
     },
     "output_type": "display_data"
    }
   ],
   "source": [
    "sns.boxplot(data['SpotPrice'])"
   ]
  },
  {
   "cell_type": "code",
   "execution_count": null,
   "metadata": {
    "id": "TR31JVqtXDVi"
   },
   "outputs": [],
   "source": []
  },
  {
   "cell_type": "markdown",
   "metadata": {
    "id": "KaHKZGsVWEB6"
   },
   "source": [
    "# New Section"
   ]
  },
  {
   "cell_type": "code",
   "execution_count": 13,
   "metadata": {
    "id": "e6LoHKCIVNhQ"
   },
   "outputs": [],
   "source": [
    "from tensorflow.keras import Sequential"
   ]
  },
  {
   "cell_type": "code",
   "execution_count": 14,
   "metadata": {
    "id": "Y0PUgj4JVSF8"
   },
   "outputs": [],
   "source": [
    "def spot_price(data,window_size=5):\n",
    "    data_=data.to_numpy()\n",
    "    x=[]\n",
    "    y=[]\n",
    "    \n",
    "    for i in range(len(data)-window_size): #last 5 rows are neglected since the window size is 5\n",
    "        row=[price for price in data_[i:i+window_size]]\n",
    "        x.append(row)\n",
    "    #print(x)   \n",
    "        label=data_[i+window_size]\n",
    "        y.append(label)\n",
    "        \n",
    "    return np.array(x),np.array(y)"
   ]
  },
  {
   "cell_type": "code",
   "execution_count": 15,
   "metadata": {
    "colab": {
     "base_uri": "https://localhost:8080/"
    },
    "id": "QHF7gybTVX1z",
    "outputId": "15922b44-0351-4bd4-bd25-7a124e4050d5"
   },
   "outputs": [
    {
     "data": {
      "text/plain": [
       "((1304, 5, 1), (1304, 1))"
      ]
     },
     "execution_count": 15,
     "metadata": {},
     "output_type": "execute_result"
    }
   ],
   "source": [
    "x,y=spot_price(data)\n",
    "x.shape,y.shape"
   ]
  },
  {
   "cell_type": "code",
   "execution_count": 16,
   "metadata": {
    "id": "xz_egS3dVas5"
   },
   "outputs": [],
   "source": [
    "x_train=x[:1083]\n",
    "y_train=y[:1083]\n",
    "x_test=x[226:]\n",
    "y_test=y[226:]"
   ]
  },
  {
   "cell_type": "code",
   "execution_count": 17,
   "metadata": {
    "colab": {
     "base_uri": "https://localhost:8080/"
    },
    "id": "fvFWlUgTXQ42",
    "outputId": "a1de08bc-06da-49bf-caab-9fc2c1a67914"
   },
   "outputs": [
    {
     "data": {
      "text/plain": [
       "((1083, 5, 1), (1083, 1), (1078, 5, 1), (1078, 1))"
      ]
     },
     "execution_count": 17,
     "metadata": {},
     "output_type": "execute_result"
    }
   ],
   "source": [
    "x_train.shape,y_train.shape,x_test.shape,y_test.shape"
   ]
  },
  {
   "cell_type": "code",
   "execution_count": 18,
   "metadata": {
    "id": "iFe6v3zlXlmy"
   },
   "outputs": [],
   "source": [
    "from tensorflow.keras.models import Sequential\n",
    "from tensorflow.keras.layers import LSTM,Dense,Flatten"
   ]
  },
  {
   "cell_type": "code",
   "execution_count": 19,
   "metadata": {
    "id": "kFxW3YNNXTQF"
   },
   "outputs": [],
   "source": [
    "model=Sequential()\n",
    "#mode.add(InputLayer(Input_shape=(5,1)))\n",
    "model.add(LSTM(50,return_sequences=True,input_shape=(5,1)))\n",
    "model.add(LSTM(50,return_sequences=True))\n",
    "model.add(LSTM(50))\n",
    "model.add(Dense(10,activation='relu'))\n",
    "model.add(Dense(1,activation='linear'))"
   ]
  },
  {
   "cell_type": "code",
   "execution_count": 20,
   "metadata": {
    "colab": {
     "base_uri": "https://localhost:8080/"
    },
    "id": "E5ZOG7RKXVLH",
    "outputId": "daebfd99-fce2-47aa-824e-dedf23cbe75e"
   },
   "outputs": [
    {
     "name": "stdout",
     "output_type": "stream",
     "text": [
      "Model: \"sequential\"\n",
      "_________________________________________________________________\n",
      "Layer (type)                 Output Shape              Param #   \n",
      "=================================================================\n",
      "lstm (LSTM)                  (None, 5, 50)             10400     \n",
      "_________________________________________________________________\n",
      "lstm_1 (LSTM)                (None, 5, 50)             20200     \n",
      "_________________________________________________________________\n",
      "lstm_2 (LSTM)                (None, 50)                20200     \n",
      "_________________________________________________________________\n",
      "dense (Dense)                (None, 10)                510       \n",
      "_________________________________________________________________\n",
      "dense_1 (Dense)              (None, 1)                 11        \n",
      "=================================================================\n",
      "Total params: 51,321\n",
      "Trainable params: 51,321\n",
      "Non-trainable params: 0\n",
      "_________________________________________________________________\n"
     ]
    }
   ],
   "source": [
    "model.summary()"
   ]
  },
  {
   "cell_type": "code",
   "execution_count": 21,
   "metadata": {
    "id": "l7VsgWdHXp5U"
   },
   "outputs": [],
   "source": [
    "model.compile(loss='mean_absolute_percentage_error',optimizer='adam')"
   ]
  },
  {
   "cell_type": "code",
   "execution_count": 22,
   "metadata": {
    "colab": {
     "base_uri": "https://localhost:8080/"
    },
    "id": "ttOPrl8YXtaK",
    "outputId": "5f22fa1c-b2e6-4c80-d3e7-02b1d67f6177"
   },
   "outputs": [
    {
     "name": "stdout",
     "output_type": "stream",
     "text": [
      "Epoch 1/20\n",
      "109/109 [==============================] - 6s 17ms/step - loss: 98.4534 - val_loss: 97.0971\n",
      "Epoch 2/20\n",
      "109/109 [==============================] - 1s 9ms/step - loss: 95.1910 - val_loss: 94.0436\n",
      "Epoch 3/20\n",
      "109/109 [==============================] - 1s 9ms/step - loss: 91.3572 - val_loss: 90.0698\n",
      "Epoch 4/20\n",
      "109/109 [==============================] - 1s 9ms/step - loss: 86.8163 - val_loss: 85.9869\n",
      "Epoch 5/20\n",
      "109/109 [==============================] - 1s 10ms/step - loss: 82.3221 - val_loss: 82.0607\n",
      "Epoch 6/20\n",
      "109/109 [==============================] - 1s 9ms/step - loss: 77.9152 - val_loss: 78.2718\n",
      "Epoch 7/20\n",
      "109/109 [==============================] - 1s 9ms/step - loss: 73.6704 - val_loss: 74.6204\n",
      "Epoch 8/20\n",
      "109/109 [==============================] - 1s 10ms/step - loss: 69.4495 - val_loss: 70.9941\n",
      "Epoch 9/20\n",
      "109/109 [==============================] - 1s 9ms/step - loss: 65.0247 - val_loss: 67.2583\n",
      "Epoch 10/20\n",
      "109/109 [==============================] - 1s 9ms/step - loss: 60.5635 - val_loss: 63.4322\n",
      "Epoch 11/20\n",
      "109/109 [==============================] - 1s 9ms/step - loss: 64.2084 - val_loss: 99.7478\n",
      "Epoch 12/20\n",
      "109/109 [==============================] - 1s 10ms/step - loss: 96.8715 - val_loss: 94.8022\n",
      "Epoch 13/20\n",
      "109/109 [==============================] - 1s 9ms/step - loss: 91.9199 - val_loss: 90.3958\n",
      "Epoch 14/20\n",
      "109/109 [==============================] - 1s 9ms/step - loss: 87.2838 - val_loss: 86.4755\n",
      "Epoch 15/20\n",
      "109/109 [==============================] - 1s 9ms/step - loss: 83.2313 - val_loss: 83.2039\n",
      "Epoch 16/20\n",
      "109/109 [==============================] - 1s 9ms/step - loss: 79.6960 - val_loss: 80.2254\n",
      "Epoch 17/20\n",
      "109/109 [==============================] - 1s 9ms/step - loss: 76.4041 - val_loss: 77.5200\n",
      "Epoch 18/20\n",
      "109/109 [==============================] - 1s 9ms/step - loss: 73.4303 - val_loss: 75.0309\n",
      "Epoch 19/20\n",
      "109/109 [==============================] - 1s 9ms/step - loss: 70.5922 - val_loss: 72.6443\n",
      "Epoch 20/20\n",
      "109/109 [==============================] - 1s 10ms/step - loss: 67.7177 - val_loss: 70.1702\n"
     ]
    },
    {
     "data": {
      "text/plain": [
       "<keras.callbacks.History at 0x138f597b430>"
      ]
     },
     "execution_count": 22,
     "metadata": {},
     "output_type": "execute_result"
    }
   ],
   "source": [
    "model.fit(x=x_train,y=y_train,validation_data=(x_test,y_test),epochs=20,batch_size=10,verbose=1)"
   ]
  },
  {
   "cell_type": "code",
   "execution_count": 23,
   "metadata": {
    "colab": {
     "base_uri": "https://localhost:8080/"
    },
    "id": "U7-TVopSXvcq",
    "outputId": "dd16ac41-6604-41c3-d752-6dc0db3671c7"
   },
   "outputs": [
    {
     "data": {
      "text/plain": [
       "array([[256.0222 ],\n",
       "       [256.0222 ],\n",
       "       [256.0222 ],\n",
       "       ...,\n",
       "       [256.02222],\n",
       "       [256.0222 ],\n",
       "       [256.0222 ]], dtype=float32)"
      ]
     },
     "execution_count": 23,
     "metadata": {},
     "output_type": "execute_result"
    }
   ],
   "source": [
    "y_pred_train=model.predict(x_train)\n",
    "y_pred_test=model.predict(x_test)\n",
    "y_pred_test"
   ]
  },
  {
   "cell_type": "code",
   "execution_count": 24,
   "metadata": {
    "id": "38LYCc_5X04e"
   },
   "outputs": [],
   "source": [
    "test_data_result=pd.DataFrame(data={'actual_price_test':y_test.flatten(),'predicted_price_test':y_pred_test.flatten()})"
   ]
  },
  {
   "cell_type": "code",
   "execution_count": 26,
   "metadata": {
    "colab": {
     "base_uri": "https://localhost:8080/"
    },
    "id": "uWnzv6yHX1hq",
    "outputId": "934f1c97-7ae1-4967-c90c-b11e7b4ed05d"
   },
   "outputs": [
    {
     "data": {
      "text/plain": [
       "70.17022637069537"
      ]
     },
     "execution_count": 26,
     "metadata": {},
     "output_type": "execute_result"
    }
   ],
   "source": [
    "lstm_MAPE=mean_absolute_percentage_error(test_data_result['actual_price_test'],test_data_result['predicted_price_test'])*100 \n",
    "lstm_MAPE"
   ]
  },
  {
   "cell_type": "code",
   "execution_count": null,
   "metadata": {
    "id": "W6nqa4StX3or"
   },
   "outputs": [],
   "source": []
  }
 ],
 "metadata": {
  "colab": {
   "collapsed_sections": [],
   "name": "Oil Price LSTM.ipynb",
   "provenance": []
  },
  "kernelspec": {
   "display_name": "Python 3",
   "language": "python",
   "name": "python3"
  },
  "language_info": {
   "codemirror_mode": {
    "name": "ipython",
    "version": 3
   },
   "file_extension": ".py",
   "mimetype": "text/x-python",
   "name": "python",
   "nbconvert_exporter": "python",
   "pygments_lexer": "ipython3",
   "version": "3.8.8"
  },
  "varInspector": {
   "cols": {
    "lenName": 16,
    "lenType": 16,
    "lenVar": 40
   },
   "kernels_config": {
    "python": {
     "delete_cmd_postfix": "",
     "delete_cmd_prefix": "del ",
     "library": "var_list.py",
     "varRefreshCmd": "print(var_dic_list())"
    },
    "r": {
     "delete_cmd_postfix": ") ",
     "delete_cmd_prefix": "rm(",
     "library": "var_list.r",
     "varRefreshCmd": "cat(var_dic_list()) "
    }
   },
   "types_to_exclude": [
    "module",
    "function",
    "builtin_function_or_method",
    "instance",
    "_Feature"
   ],
   "window_display": false
  }
 },
 "nbformat": 4,
 "nbformat_minor": 1
}
