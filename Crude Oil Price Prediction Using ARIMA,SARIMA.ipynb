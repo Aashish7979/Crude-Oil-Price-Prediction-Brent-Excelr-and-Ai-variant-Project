{
 "cells": [
  {
   "cell_type": "markdown",
   "id": "a3efb883",
   "metadata": {
    "ExecuteTime": {
     "end_time": "2022-01-26T11:47:21.122436Z",
     "start_time": "2022-01-26T11:47:21.113446Z"
    }
   },
   "source": [
    "### Importing modules and libraries"
   ]
  },
  {
   "cell_type": "code",
   "execution_count": 1,
   "id": "50ccc37b",
   "metadata": {
    "ExecuteTime": {
     "end_time": "2022-01-26T13:33:34.235526Z",
     "start_time": "2022-01-26T13:33:32.064709Z"
    }
   },
   "outputs": [],
   "source": [
    "import numpy as np\n",
    "import pandas as pd\n",
    "import matplotlib.pyplot as plt\n",
    "import seaborn as sns\n",
    "from scipy.stats import boxcox \n",
    "from sklearn import preprocessing\n",
    "import statsmodels.api as sm\n",
    "from statsmodels.tsa.stattools import adfuller\n",
    "%matplotlib inline"
   ]
  },
  {
   "cell_type": "code",
   "execution_count": 2,
   "id": "b1190f0e",
   "metadata": {
    "ExecuteTime": {
     "end_time": "2022-01-26T13:33:35.961062Z",
     "start_time": "2022-01-26T13:33:35.952893Z"
    }
   },
   "outputs": [],
   "source": [
    "import warnings\n",
    "warnings.filterwarnings('ignore')"
   ]
  },
  {
   "cell_type": "markdown",
   "id": "856df5a4",
   "metadata": {},
   "source": [
    "### Loading latest Dataset"
   ]
  },
  {
   "cell_type": "code",
   "execution_count": 4,
   "id": "ec581108",
   "metadata": {
    "ExecuteTime": {
     "end_time": "2022-01-26T13:34:19.850709Z",
     "start_time": "2022-01-26T13:34:19.758416Z"
    }
   },
   "outputs": [],
   "source": [
    "oil=pd.read_excel('Brent.xls', index_col=[0],parse_dates = [0] )"
   ]
  },
  {
   "cell_type": "markdown",
   "id": "f2fd8fdb",
   "metadata": {
    "ExecuteTime": {
     "end_time": "2022-01-26T13:34:29.660138Z",
     "start_time": "2022-01-26T13:34:29.641471Z"
    }
   },
   "source": [
    "## EDA"
   ]
  },
  {
   "cell_type": "code",
   "execution_count": 6,
   "id": "260af8fc",
   "metadata": {
    "ExecuteTime": {
     "end_time": "2022-01-26T13:34:35.376003Z",
     "start_time": "2022-01-26T13:34:35.356005Z"
    }
   },
   "outputs": [
    {
     "data": {
      "text/html": [
       "<div>\n",
       "<style scoped>\n",
       "    .dataframe tbody tr th:only-of-type {\n",
       "        vertical-align: middle;\n",
       "    }\n",
       "\n",
       "    .dataframe tbody tr th {\n",
       "        vertical-align: top;\n",
       "    }\n",
       "\n",
       "    .dataframe thead th {\n",
       "        text-align: right;\n",
       "    }\n",
       "</style>\n",
       "<table border=\"1\" class=\"dataframe\">\n",
       "  <thead>\n",
       "    <tr style=\"text-align: right;\">\n",
       "      <th></th>\n",
       "      <th>SpotPrice</th>\n",
       "    </tr>\n",
       "    <tr>\n",
       "      <th>Date</th>\n",
       "      <th></th>\n",
       "    </tr>\n",
       "  </thead>\n",
       "  <tbody>\n",
       "    <tr>\n",
       "      <th>2016-10-03</th>\n",
       "      <td>48.61</td>\n",
       "    </tr>\n",
       "    <tr>\n",
       "      <th>2016-10-04</th>\n",
       "      <td>48.81</td>\n",
       "    </tr>\n",
       "    <tr>\n",
       "      <th>2016-10-05</th>\n",
       "      <td>49.57</td>\n",
       "    </tr>\n",
       "    <tr>\n",
       "      <th>2016-10-06</th>\n",
       "      <td>50.14</td>\n",
       "    </tr>\n",
       "    <tr>\n",
       "      <th>2016-10-07</th>\n",
       "      <td>50.49</td>\n",
       "    </tr>\n",
       "    <tr>\n",
       "      <th>2016-10-10</th>\n",
       "      <td>51.54</td>\n",
       "    </tr>\n",
       "    <tr>\n",
       "      <th>2016-10-11</th>\n",
       "      <td>50.48</td>\n",
       "    </tr>\n",
       "    <tr>\n",
       "      <th>2016-10-12</th>\n",
       "      <td>49.53</td>\n",
       "    </tr>\n",
       "    <tr>\n",
       "      <th>2016-10-13</th>\n",
       "      <td>49.29</td>\n",
       "    </tr>\n",
       "    <tr>\n",
       "      <th>2016-10-14</th>\n",
       "      <td>48.87</td>\n",
       "    </tr>\n",
       "  </tbody>\n",
       "</table>\n",
       "</div>"
      ],
      "text/plain": [
       "            SpotPrice\n",
       "Date                 \n",
       "2016-10-03      48.61\n",
       "2016-10-04      48.81\n",
       "2016-10-05      49.57\n",
       "2016-10-06      50.14\n",
       "2016-10-07      50.49\n",
       "2016-10-10      51.54\n",
       "2016-10-11      50.48\n",
       "2016-10-12      49.53\n",
       "2016-10-13      49.29\n",
       "2016-10-14      48.87"
      ]
     },
     "execution_count": 6,
     "metadata": {},
     "output_type": "execute_result"
    }
   ],
   "source": [
    "oil.head(10)"
   ]
  },
  {
   "cell_type": "code",
   "execution_count": 7,
   "id": "3d321508",
   "metadata": {
    "ExecuteTime": {
     "end_time": "2022-01-26T13:34:37.675493Z",
     "start_time": "2022-01-26T13:34:37.652662Z"
    }
   },
   "outputs": [
    {
     "data": {
      "text/html": [
       "<div>\n",
       "<style scoped>\n",
       "    .dataframe tbody tr th:only-of-type {\n",
       "        vertical-align: middle;\n",
       "    }\n",
       "\n",
       "    .dataframe tbody tr th {\n",
       "        vertical-align: top;\n",
       "    }\n",
       "\n",
       "    .dataframe thead th {\n",
       "        text-align: right;\n",
       "    }\n",
       "</style>\n",
       "<table border=\"1\" class=\"dataframe\">\n",
       "  <thead>\n",
       "    <tr style=\"text-align: right;\">\n",
       "      <th></th>\n",
       "      <th>SpotPrice</th>\n",
       "    </tr>\n",
       "    <tr>\n",
       "      <th>Date</th>\n",
       "      <th></th>\n",
       "    </tr>\n",
       "  </thead>\n",
       "  <tbody>\n",
       "    <tr>\n",
       "      <th>2021-11-09</th>\n",
       "      <td>84.52</td>\n",
       "    </tr>\n",
       "    <tr>\n",
       "      <th>2021-11-10</th>\n",
       "      <td>82.91</td>\n",
       "    </tr>\n",
       "    <tr>\n",
       "      <th>2021-11-11</th>\n",
       "      <td>83.40</td>\n",
       "    </tr>\n",
       "    <tr>\n",
       "      <th>2021-11-12</th>\n",
       "      <td>82.90</td>\n",
       "    </tr>\n",
       "    <tr>\n",
       "      <th>2021-11-15</th>\n",
       "      <td>81.94</td>\n",
       "    </tr>\n",
       "    <tr>\n",
       "      <th>2021-11-16</th>\n",
       "      <td>82.85</td>\n",
       "    </tr>\n",
       "    <tr>\n",
       "      <th>2021-11-17</th>\n",
       "      <td>80.67</td>\n",
       "    </tr>\n",
       "    <tr>\n",
       "      <th>2021-11-18</th>\n",
       "      <td>82.45</td>\n",
       "    </tr>\n",
       "    <tr>\n",
       "      <th>2021-11-19</th>\n",
       "      <td>80.24</td>\n",
       "    </tr>\n",
       "    <tr>\n",
       "      <th>2021-11-22</th>\n",
       "      <td>80.97</td>\n",
       "    </tr>\n",
       "  </tbody>\n",
       "</table>\n",
       "</div>"
      ],
      "text/plain": [
       "            SpotPrice\n",
       "Date                 \n",
       "2021-11-09      84.52\n",
       "2021-11-10      82.91\n",
       "2021-11-11      83.40\n",
       "2021-11-12      82.90\n",
       "2021-11-15      81.94\n",
       "2021-11-16      82.85\n",
       "2021-11-17      80.67\n",
       "2021-11-18      82.45\n",
       "2021-11-19      80.24\n",
       "2021-11-22      80.97"
      ]
     },
     "execution_count": 7,
     "metadata": {},
     "output_type": "execute_result"
    }
   ],
   "source": [
    "oil.tail(10)"
   ]
  },
  {
   "cell_type": "code",
   "execution_count": 9,
   "id": "df094cdf",
   "metadata": {
    "ExecuteTime": {
     "end_time": "2022-01-26T13:34:55.302572Z",
     "start_time": "2022-01-26T13:34:55.290149Z"
    }
   },
   "outputs": [
    {
     "data": {
      "text/plain": [
       "pandas.core.frame.DataFrame"
      ]
     },
     "execution_count": 9,
     "metadata": {},
     "output_type": "execute_result"
    }
   ],
   "source": [
    "type(oil)"
   ]
  },
  {
   "cell_type": "code",
   "execution_count": 11,
   "id": "2c5d3d85",
   "metadata": {
    "ExecuteTime": {
     "end_time": "2022-01-26T13:35:22.528313Z",
     "start_time": "2022-01-26T13:35:22.512406Z"
    }
   },
   "outputs": [
    {
     "data": {
      "text/html": [
       "<div>\n",
       "<style scoped>\n",
       "    .dataframe tbody tr th:only-of-type {\n",
       "        vertical-align: middle;\n",
       "    }\n",
       "\n",
       "    .dataframe tbody tr th {\n",
       "        vertical-align: top;\n",
       "    }\n",
       "\n",
       "    .dataframe thead th {\n",
       "        text-align: right;\n",
       "    }\n",
       "</style>\n",
       "<table border=\"1\" class=\"dataframe\">\n",
       "  <thead>\n",
       "    <tr style=\"text-align: right;\">\n",
       "      <th></th>\n",
       "      <th>SpotPrice</th>\n",
       "    </tr>\n",
       "  </thead>\n",
       "  <tbody>\n",
       "    <tr>\n",
       "      <th>count</th>\n",
       "      <td>1309.000000</td>\n",
       "    </tr>\n",
       "    <tr>\n",
       "      <th>mean</th>\n",
       "      <td>59.626753</td>\n",
       "    </tr>\n",
       "    <tr>\n",
       "      <th>std</th>\n",
       "      <td>13.479875</td>\n",
       "    </tr>\n",
       "    <tr>\n",
       "      <th>min</th>\n",
       "      <td>9.120000</td>\n",
       "    </tr>\n",
       "    <tr>\n",
       "      <th>25%</th>\n",
       "      <td>50.960000</td>\n",
       "    </tr>\n",
       "    <tr>\n",
       "      <th>50%</th>\n",
       "      <td>61.500000</td>\n",
       "    </tr>\n",
       "    <tr>\n",
       "      <th>75%</th>\n",
       "      <td>69.290000</td>\n",
       "    </tr>\n",
       "    <tr>\n",
       "      <th>max</th>\n",
       "      <td>86.070000</td>\n",
       "    </tr>\n",
       "  </tbody>\n",
       "</table>\n",
       "</div>"
      ],
      "text/plain": [
       "         SpotPrice\n",
       "count  1309.000000\n",
       "mean     59.626753\n",
       "std      13.479875\n",
       "min       9.120000\n",
       "25%      50.960000\n",
       "50%      61.500000\n",
       "75%      69.290000\n",
       "max      86.070000"
      ]
     },
     "execution_count": 11,
     "metadata": {},
     "output_type": "execute_result"
    }
   ],
   "source": [
    "oil.describe()"
   ]
  },
  {
   "cell_type": "code",
   "execution_count": 12,
   "id": "02e9db08",
   "metadata": {
    "ExecuteTime": {
     "end_time": "2022-01-26T13:35:23.472555Z",
     "start_time": "2022-01-26T13:35:23.450554Z"
    }
   },
   "outputs": [
    {
     "name": "stdout",
     "output_type": "stream",
     "text": [
      "<class 'pandas.core.frame.DataFrame'>\n",
      "DatetimeIndex: 1309 entries, 2016-10-03 to 2021-11-22\n",
      "Data columns (total 1 columns):\n",
      " #   Column     Non-Null Count  Dtype  \n",
      "---  ------     --------------  -----  \n",
      " 0   SpotPrice  1309 non-null   float64\n",
      "dtypes: float64(1)\n",
      "memory usage: 20.5 KB\n"
     ]
    }
   ],
   "source": [
    "oil.info()"
   ]
  },
  {
   "cell_type": "code",
   "execution_count": 13,
   "id": "c25da617",
   "metadata": {
    "ExecuteTime": {
     "end_time": "2022-01-26T13:35:40.217000Z",
     "start_time": "2022-01-26T13:35:40.210146Z"
    }
   },
   "outputs": [
    {
     "data": {
      "text/plain": [
       "(1309, 1)"
      ]
     },
     "execution_count": 13,
     "metadata": {},
     "output_type": "execute_result"
    }
   ],
   "source": [
    "oil.shape"
   ]
  },
  {
   "cell_type": "code",
   "execution_count": 14,
   "id": "669e5d5d",
   "metadata": {
    "ExecuteTime": {
     "end_time": "2022-01-26T13:35:51.390453Z",
     "start_time": "2022-01-26T13:35:51.377560Z"
    }
   },
   "outputs": [
    {
     "data": {
      "text/plain": [
       "SpotPrice    0\n",
       "dtype: int64"
      ]
     },
     "execution_count": 14,
     "metadata": {},
     "output_type": "execute_result"
    }
   ],
   "source": [
    "oil.isnull().sum()"
   ]
  },
  {
   "cell_type": "code",
   "execution_count": 15,
   "id": "c0691925",
   "metadata": {
    "ExecuteTime": {
     "end_time": "2022-01-26T13:36:03.463649Z",
     "start_time": "2022-01-26T13:36:03.451108Z"
    }
   },
   "outputs": [
    {
     "data": {
      "text/plain": [
       "SpotPrice    float64\n",
       "dtype: object"
      ]
     },
     "execution_count": 15,
     "metadata": {},
     "output_type": "execute_result"
    }
   ],
   "source": [
    "oil.dtypes"
   ]
  },
  {
   "cell_type": "markdown",
   "id": "666d85b5",
   "metadata": {},
   "source": [
    "##### Converting into series"
   ]
  },
  {
   "cell_type": "code",
   "execution_count": 16,
   "id": "f500125a",
   "metadata": {
    "ExecuteTime": {
     "end_time": "2022-01-26T13:36:28.833687Z",
     "start_time": "2022-01-26T13:36:28.823488Z"
    }
   },
   "outputs": [
    {
     "data": {
      "text/plain": [
       "array([[48.61],\n",
       "       [48.81],\n",
       "       [49.57],\n",
       "       ...,\n",
       "       [82.45],\n",
       "       [80.24],\n",
       "       [80.97]])"
      ]
     },
     "execution_count": 16,
     "metadata": {},
     "output_type": "execute_result"
    }
   ],
   "source": [
    "series_value = oil.values\n",
    "series_value"
   ]
  },
  {
   "cell_type": "markdown",
   "id": "15ef9059",
   "metadata": {
    "ExecuteTime": {
     "end_time": "2022-01-26T11:47:33.020020Z",
     "start_time": "2022-01-26T11:47:33.002081Z"
    }
   },
   "source": [
    "#type(series_value)"
   ]
  },
  {
   "cell_type": "markdown",
   "id": "4c3463eb",
   "metadata": {},
   "source": [
    "### Visualization"
   ]
  },
  {
   "cell_type": "code",
   "execution_count": 17,
   "id": "760b977a",
   "metadata": {
    "ExecuteTime": {
     "end_time": "2022-01-26T13:36:51.432884Z",
     "start_time": "2022-01-26T13:36:51.143700Z"
    },
    "scrolled": true
   },
   "outputs": [
    {
     "data": {
      "text/plain": [
       "<AxesSubplot:xlabel='Date'>"
      ]
     },
     "execution_count": 17,
     "metadata": {},
     "output_type": "execute_result"
    },
    {
     "data": {
      "image/png": "[encoded data removed]",
      "text/plain": [
       "<Figure size 432x288 with 1 Axes>"
      ]
     },
     "metadata": {
      "needs_background": "light"
     },
     "output_type": "display_data"
    }
   ],
   "source": [
    "oil.plot()"
   ]
  },
  {
   "cell_type": "code",
   "execution_count": 18,
   "id": "991bfbce",
   "metadata": {
    "ExecuteTime": {
     "end_time": "2022-01-26T13:36:54.575198Z",
     "start_time": "2022-01-26T13:36:54.297355Z"
    }
   },
   "outputs": [
    {
     "data": {
      "image/png": "[encoded data removed]",
      "text/plain": [
       "<Figure size 1152x360 with 1 Axes>"
      ]
     },
     "metadata": {
      "needs_background": "light"
     },
     "output_type": "display_data"
    }
   ],
   "source": [
    "plt.figure(figsize=(16,5))\n",
    "sns.distplot(oil['SpotPrice'])\n",
    "plt.show()"
   ]
  },
  {
   "cell_type": "code",
   "execution_count": 19,
   "id": "dbe528b0",
   "metadata": {
    "ExecuteTime": {
     "end_time": "2022-01-26T13:36:56.306793Z",
     "start_time": "2022-01-26T13:36:56.200700Z"
    }
   },
   "outputs": [
    {
     "data": {
      "image/png": "[encoded data removed]",
      "text/plain": [
       "<Figure size 432x288 with 1 Axes>"
      ]
     },
     "metadata": {
      "needs_background": "light"
     },
     "output_type": "display_data"
    }
   ],
   "source": [
    "sns.boxplot(oil['SpotPrice'])\n",
    "plt.show()"
   ]
  },
  {
   "cell_type": "markdown",
   "id": "814b7cb1",
   "metadata": {},
   "source": [
    "Inferences : As we can find outliers in Dataset hence it needs to be treated for un-biased results hence treating outliers via boxcox transformation"
   ]
  },
  {
   "cell_type": "markdown",
   "id": "9943a8a5",
   "metadata": {},
   "source": [
    "## Treating Outlier "
   ]
  },
  {
   "cell_type": "markdown",
   "id": "017b5fec",
   "metadata": {},
   "source": [
    "### Standardizing\n",
    "As data is not normally distributed and have outliers. It becomes necessary to transform it to normal distribution for better model accuracy. \n",
    "\n",
    "An alternative to manually trying a variety of transformations is the Box Cox transformation. For each variable, a Box Cox transformation estimates the value lambda from -5 to 5 that maximizes the normality of the data using the equation below\n",
    "\n",
    "For negative values of lambda, the transformation performs a variant of the reciprocal of the variable. At a lambda of zero, the variable is log transformed, and for positive lambda values, the variable is transformed the power of lambda. We can apply “boxcox” to all the skewed variables in the dataframe “data1” using Scipy.stats. "
   ]
  },
  {
   "cell_type": "code",
   "execution_count": 27,
   "id": "aa88ad45",
   "metadata": {
    "ExecuteTime": {
     "end_time": "2022-01-26T13:41:17.765058Z",
     "start_time": "2022-01-26T13:41:17.756439Z"
    }
   },
   "outputs": [],
   "source": [
    "for i in oil:\n",
    "    oil[i],lmbda=boxcox(oil[i], lmbda=None)"
   ]
  },
  {
   "cell_type": "code",
   "execution_count": 28,
   "id": "e816789e",
   "metadata": {
    "ExecuteTime": {
     "end_time": "2022-01-26T13:41:18.194342Z",
     "start_time": "2022-01-26T13:41:18.170229Z"
    }
   },
   "outputs": [
    {
     "data": {
      "text/html": [
       "<div>\n",
       "<style scoped>\n",
       "    .dataframe tbody tr th:only-of-type {\n",
       "        vertical-align: middle;\n",
       "    }\n",
       "\n",
       "    .dataframe tbody tr th {\n",
       "        vertical-align: top;\n",
       "    }\n",
       "\n",
       "    .dataframe thead th {\n",
       "        text-align: right;\n",
       "    }\n",
       "</style>\n",
       "<table border=\"1\" class=\"dataframe\">\n",
       "  <thead>\n",
       "    <tr style=\"text-align: right;\">\n",
       "      <th></th>\n",
       "      <th>SpotPrice</th>\n",
       "    </tr>\n",
       "    <tr>\n",
       "      <th>Date</th>\n",
       "      <th></th>\n",
       "    </tr>\n",
       "  </thead>\n",
       "  <tbody>\n",
       "    <tr>\n",
       "      <th>2016-10-03</th>\n",
       "      <td>551.847177</td>\n",
       "    </tr>\n",
       "    <tr>\n",
       "      <th>2016-10-04</th>\n",
       "      <td>555.892428</td>\n",
       "    </tr>\n",
       "    <tr>\n",
       "      <th>2016-10-05</th>\n",
       "      <td>571.381441</td>\n",
       "    </tr>\n",
       "    <tr>\n",
       "      <th>2016-10-06</th>\n",
       "      <td>583.119547</td>\n",
       "    </tr>\n",
       "    <tr>\n",
       "      <th>2016-10-07</th>\n",
       "      <td>590.378567</td>\n",
       "    </tr>\n",
       "    <tr>\n",
       "      <th>...</th>\n",
       "      <td>...</td>\n",
       "    </tr>\n",
       "    <tr>\n",
       "      <th>2021-11-16</th>\n",
       "      <td>1423.385726</td>\n",
       "    </tr>\n",
       "    <tr>\n",
       "      <th>2021-11-17</th>\n",
       "      <td>1357.557274</td>\n",
       "    </tr>\n",
       "    <tr>\n",
       "      <th>2021-11-18</th>\n",
       "      <td>1411.205435</td>\n",
       "    </tr>\n",
       "    <tr>\n",
       "      <th>2021-11-19</th>\n",
       "      <td>1344.733359</td>\n",
       "    </tr>\n",
       "    <tr>\n",
       "      <th>2021-11-22</th>\n",
       "      <td>1366.535583</td>\n",
       "    </tr>\n",
       "  </tbody>\n",
       "</table>\n",
       "<p>1309 rows × 1 columns</p>\n",
       "</div>"
      ],
      "text/plain": [
       "              SpotPrice\n",
       "Date                   \n",
       "2016-10-03   551.847177\n",
       "2016-10-04   555.892428\n",
       "2016-10-05   571.381441\n",
       "2016-10-06   583.119547\n",
       "2016-10-07   590.378567\n",
       "...                 ...\n",
       "2021-11-16  1423.385726\n",
       "2021-11-17  1357.557274\n",
       "2021-11-18  1411.205435\n",
       "2021-11-19  1344.733359\n",
       "2021-11-22  1366.535583\n",
       "\n",
       "[1309 rows x 1 columns]"
      ]
     },
     "execution_count": 28,
     "metadata": {},
     "output_type": "execute_result"
    }
   ],
   "source": [
    "oil"
   ]
  },
  {
   "cell_type": "code",
   "execution_count": 29,
   "id": "f7ded78a",
   "metadata": {
    "ExecuteTime": {
     "end_time": "2022-01-26T13:41:21.460258Z",
     "start_time": "2022-01-26T13:41:21.275942Z"
    }
   },
   "outputs": [
    {
     "data": {
      "text/plain": [
       "<AxesSubplot:ylabel='Density'>"
      ]
     },
     "execution_count": 29,
     "metadata": {},
     "output_type": "execute_result"
    },
    {
     "data": {
      "image/png": "[encoded data removed]",
      "text/plain": [
       "<Figure size 1152x360 with 1 Axes>"
      ]
     },
     "metadata": {
      "needs_background": "light"
     },
     "output_type": "display_data"
    }
   ],
   "source": [
    "plt.figure(figsize=(16,5))\n",
    "sns.distplot(oil)"
   ]
  },
  {
   "cell_type": "code",
   "execution_count": 30,
   "id": "12709d55",
   "metadata": {
    "ExecuteTime": {
     "end_time": "2022-01-26T13:41:21.663903Z",
     "start_time": "2022-01-26T13:41:21.553709Z"
    }
   },
   "outputs": [
    {
     "data": {
      "text/plain": [
       "<AxesSubplot:xlabel='SpotPrice'>"
      ]
     },
     "execution_count": 30,
     "metadata": {},
     "output_type": "execute_result"
    },
    {
     "data": {
      "image/png": "[encoded data removed]",
      "text/plain": [
       "<Figure size 432x288 with 1 Axes>"
      ]
     },
     "metadata": {
      "needs_background": "light"
     },
     "output_type": "display_data"
    }
   ],
   "source": [
    "sns.boxplot(oil['SpotPrice'])"
   ]
  },
  {
   "cell_type": "code",
   "execution_count": 31,
   "id": "26127bd8",
   "metadata": {
    "ExecuteTime": {
     "end_time": "2022-01-26T13:41:23.201274Z",
     "start_time": "2022-01-26T13:41:23.049126Z"
    }
   },
   "outputs": [
    {
     "data": {
      "text/plain": [
       "<AxesSubplot:xlabel='Date'>"
      ]
     },
     "execution_count": 31,
     "metadata": {},
     "output_type": "execute_result"
    },
    {
     "data": {
      "image/png": "[encoded data removed]",
      "text/plain": [
       "<Figure size 432x288 with 1 Axes>"
      ]
     },
     "metadata": {
      "needs_background": "light"
     },
     "output_type": "display_data"
    }
   ],
   "source": [
    "oil.plot()"
   ]
  },
  {
   "cell_type": "code",
   "execution_count": 36,
   "id": "0d3a5d24",
   "metadata": {
    "ExecuteTime": {
     "end_time": "2022-01-26T13:44:29.387929Z",
     "start_time": "2022-01-26T13:44:29.367080Z"
    }
   },
   "outputs": [
    {
     "data": {
      "text/html": [
       "<div>\n",
       "<style scoped>\n",
       "    .dataframe tbody tr th:only-of-type {\n",
       "        vertical-align: middle;\n",
       "    }\n",
       "\n",
       "    .dataframe tbody tr th {\n",
       "        vertical-align: top;\n",
       "    }\n",
       "\n",
       "    .dataframe thead th {\n",
       "        text-align: right;\n",
       "    }\n",
       "</style>\n",
       "<table border=\"1\" class=\"dataframe\">\n",
       "  <thead>\n",
       "    <tr style=\"text-align: right;\">\n",
       "      <th></th>\n",
       "      <th>SpotPrice</th>\n",
       "    </tr>\n",
       "  </thead>\n",
       "  <tbody>\n",
       "    <tr>\n",
       "      <th>count</th>\n",
       "      <td>1309.000000</td>\n",
       "    </tr>\n",
       "    <tr>\n",
       "      <th>mean</th>\n",
       "      <td>821.840483</td>\n",
       "    </tr>\n",
       "    <tr>\n",
       "      <th>std</th>\n",
       "      <td>301.897262</td>\n",
       "    </tr>\n",
       "    <tr>\n",
       "      <th>min</th>\n",
       "      <td>26.879581</td>\n",
       "    </tr>\n",
       "    <tr>\n",
       "      <th>25%</th>\n",
       "      <td>600.187798</td>\n",
       "    </tr>\n",
       "    <tr>\n",
       "      <th>50%</th>\n",
       "      <td>838.359818</td>\n",
       "    </tr>\n",
       "    <tr>\n",
       "      <th>75%</th>\n",
       "      <td>1036.237456</td>\n",
       "    </tr>\n",
       "    <tr>\n",
       "      <th>max</th>\n",
       "      <td>1523.093508</td>\n",
       "    </tr>\n",
       "  </tbody>\n",
       "</table>\n",
       "</div>"
      ],
      "text/plain": [
       "         SpotPrice\n",
       "count  1309.000000\n",
       "mean    821.840483\n",
       "std     301.897262\n",
       "min      26.879581\n",
       "25%     600.187798\n",
       "50%     838.359818\n",
       "75%    1036.237456\n",
       "max    1523.093508"
      ]
     },
     "execution_count": 36,
     "metadata": {},
     "output_type": "execute_result"
    }
   ],
   "source": [
    "oil.describe()"
   ]
  },
  {
   "cell_type": "markdown",
   "id": "a177da8d",
   "metadata": {},
   "source": [
    "Inference: Skewness reduced and now data is transformed to be normally distributed."
   ]
  },
  {
   "cell_type": "markdown",
   "id": "91b96c98",
   "metadata": {},
   "source": [
    "### Lagplot"
   ]
  },
  {
   "cell_type": "code",
   "execution_count": 37,
   "id": "2c67884a",
   "metadata": {
    "ExecuteTime": {
     "end_time": "2022-01-26T13:45:36.396740Z",
     "start_time": "2022-01-26T13:45:36.383529Z"
    }
   },
   "outputs": [
    {
     "data": {
      "text/html": [
       "<div>\n",
       "<style scoped>\n",
       "    .dataframe tbody tr th:only-of-type {\n",
       "        vertical-align: middle;\n",
       "    }\n",
       "\n",
       "    .dataframe tbody tr th {\n",
       "        vertical-align: top;\n",
       "    }\n",
       "\n",
       "    .dataframe thead th {\n",
       "        text-align: right;\n",
       "    }\n",
       "</style>\n",
       "<table border=\"1\" class=\"dataframe\">\n",
       "  <thead>\n",
       "    <tr style=\"text-align: right;\">\n",
       "      <th></th>\n",
       "      <th>SpotPrice</th>\n",
       "    </tr>\n",
       "    <tr>\n",
       "      <th>Date</th>\n",
       "      <th></th>\n",
       "    </tr>\n",
       "  </thead>\n",
       "  <tbody>\n",
       "    <tr>\n",
       "      <th>2016-10-03</th>\n",
       "      <td>551.847177</td>\n",
       "    </tr>\n",
       "    <tr>\n",
       "      <th>2016-10-04</th>\n",
       "      <td>555.892428</td>\n",
       "    </tr>\n",
       "    <tr>\n",
       "      <th>2016-10-05</th>\n",
       "      <td>571.381441</td>\n",
       "    </tr>\n",
       "    <tr>\n",
       "      <th>2016-10-06</th>\n",
       "      <td>583.119547</td>\n",
       "    </tr>\n",
       "    <tr>\n",
       "      <th>2016-10-07</th>\n",
       "      <td>590.378567</td>\n",
       "    </tr>\n",
       "    <tr>\n",
       "      <th>...</th>\n",
       "      <td>...</td>\n",
       "    </tr>\n",
       "    <tr>\n",
       "      <th>2021-11-16</th>\n",
       "      <td>1423.385726</td>\n",
       "    </tr>\n",
       "    <tr>\n",
       "      <th>2021-11-17</th>\n",
       "      <td>1357.557274</td>\n",
       "    </tr>\n",
       "    <tr>\n",
       "      <th>2021-11-18</th>\n",
       "      <td>1411.205435</td>\n",
       "    </tr>\n",
       "    <tr>\n",
       "      <th>2021-11-19</th>\n",
       "      <td>1344.733359</td>\n",
       "    </tr>\n",
       "    <tr>\n",
       "      <th>2021-11-22</th>\n",
       "      <td>1366.535583</td>\n",
       "    </tr>\n",
       "  </tbody>\n",
       "</table>\n",
       "<p>1309 rows × 1 columns</p>\n",
       "</div>"
      ],
      "text/plain": [
       "              SpotPrice\n",
       "Date                   \n",
       "2016-10-03   551.847177\n",
       "2016-10-04   555.892428\n",
       "2016-10-05   571.381441\n",
       "2016-10-06   583.119547\n",
       "2016-10-07   590.378567\n",
       "...                 ...\n",
       "2021-11-16  1423.385726\n",
       "2021-11-17  1357.557274\n",
       "2021-11-18  1411.205435\n",
       "2021-11-19  1344.733359\n",
       "2021-11-22  1366.535583\n",
       "\n",
       "[1309 rows x 1 columns]"
      ]
     },
     "execution_count": 37,
     "metadata": {},
     "output_type": "execute_result"
    }
   ],
   "source": [
    "oil"
   ]
  },
  {
   "cell_type": "code",
   "execution_count": 38,
   "id": "e99fd3fc",
   "metadata": {
    "ExecuteTime": {
     "end_time": "2022-01-26T13:45:37.953655Z",
     "start_time": "2022-01-26T13:45:37.813789Z"
    }
   },
   "outputs": [
    {
     "data": {
      "text/plain": [
       "<AxesSubplot:xlabel='y(t)', ylabel='y(t + 1)'>"
      ]
     },
     "execution_count": 38,
     "metadata": {},
     "output_type": "execute_result"
    },
    {
     "data": {
      "image/png": "[encoded data removed]",
      "text/plain": [
       "<Figure size 432x288 with 1 Axes>"
      ]
     },
     "metadata": {
      "needs_background": "light"
     },
     "output_type": "display_data"
    }
   ],
   "source": [
    "from pandas.plotting import lag_plot\n",
    "\n",
    "lag_plot(oil['SpotPrice'])"
   ]
  },
  {
   "cell_type": "markdown",
   "id": "adf5f5ad",
   "metadata": {},
   "source": [
    "### ACF and PACF plot"
   ]
  },
  {
   "cell_type": "code",
   "execution_count": 51,
   "id": "ab6e7da3",
   "metadata": {
    "ExecuteTime": {
     "end_time": "2022-01-26T14:04:56.679976Z",
     "start_time": "2022-01-26T14:04:56.663630Z"
    }
   },
   "outputs": [],
   "source": [
    "#from statsmodels.graphics.tsaplots import plot_acf,plot_pacf"
   ]
  },
  {
   "cell_type": "code",
   "execution_count": 52,
   "id": "942a3be1",
   "metadata": {
    "ExecuteTime": {
     "end_time": "2022-01-26T14:04:58.497019Z",
     "start_time": "2022-01-26T14:04:58.488967Z"
    }
   },
   "outputs": [],
   "source": [
    "#fig = plt.figure(figsize=(12,8))\n",
    "#ax1 = fig.add_subplot(211)\n",
    "#fig = sm.graphics.tsa.plot_acf(oil['SpotPrice'].iloc[6:],lags=12)\n",
    "#ax1 = fig.add_subplot(212)\n",
    "#fig = sm.graphics.tsa.plot_pacf(oil['SpotPrice'].iloc[6:],lags=12)"
   ]
  },
  {
   "cell_type": "code",
   "execution_count": 53,
   "id": "6070d514",
   "metadata": {
    "ExecuteTime": {
     "end_time": "2022-01-26T14:05:06.599860Z",
     "start_time": "2022-01-26T14:05:06.358792Z"
    }
   },
   "outputs": [
    {
     "data": {
      "image/png": "[encoded data removed]",
      "text/plain": [
       "<Figure size 432x288 with 1 Axes>"
      ]
     },
     "metadata": {
      "needs_background": "light"
     },
     "output_type": "display_data"
    },
    {
     "data": {
      "image/png": "[encoded data removed]",
      "text/plain": [
       "<Figure size 432x288 with 1 Axes>"
      ]
     },
     "metadata": {
      "needs_background": "light"
     },
     "output_type": "display_data"
    }
   ],
   "source": [
    "import statsmodels.graphics.tsaplots as tsa_plots\n",
    "tsa_plots.plot_acf(oil['SpotPrice'],lags=12)\n",
    "tsa_plots.plot_pacf(oil['SpotPrice'],lags=12)\n",
    "plt.show()"
   ]
  },
  {
   "cell_type": "markdown",
   "id": "d693db06",
   "metadata": {},
   "source": [
    "### Decomposition plot"
   ]
  },
  {
   "cell_type": "code",
   "execution_count": 54,
   "id": "67c14620",
   "metadata": {
    "ExecuteTime": {
     "end_time": "2022-01-26T14:05:19.439294Z",
     "start_time": "2022-01-26T14:05:19.101085Z"
    }
   },
   "outputs": [
    {
     "data": {
      "image/png": "[encoded data removed]",
      "text/plain": [
       "<Figure size 432x288 with 4 Axes>"
      ]
     },
     "metadata": {
      "needs_background": "light"
     },
     "output_type": "display_data"
    }
   ],
   "source": [
    "from statsmodels.tsa.seasonal import seasonal_decompose\n",
    "\n",
    "decompose_ts_add = seasonal_decompose(oil['SpotPrice'],period=12,model='additive')\n",
    "decompose_ts_add.plot()\n",
    "plt.show()"
   ]
  },
  {
   "cell_type": "markdown",
   "id": "9bfb4660",
   "metadata": {},
   "source": [
    "### Testing For Stationarity using Dickey-Fuller Test to transformed data"
   ]
  },
  {
   "cell_type": "markdown",
   "id": "139ae6b9",
   "metadata": {},
   "source": [
    "### Stationarity Check\n",
    "- Method 1 - Rolling Statistics\n",
    "- Method 2 - Dicky Fuller"
   ]
  },
  {
   "cell_type": "code",
   "execution_count": 55,
   "id": "e995c272",
   "metadata": {
    "ExecuteTime": {
     "end_time": "2022-01-26T14:05:31.513091Z",
     "start_time": "2022-01-26T14:05:31.505092Z"
    }
   },
   "outputs": [],
   "source": [
    " def test_stationarity(timeseries):\n",
    "    \"\"\" Fucntion to plot the moving variance and apply Dickey Fuller Test\"\"\"\n",
    "    rolmean = timeseries.rolling(window=52, center=False).mean()\n",
    "    rolstd = timeseries.rolling(window=52, center=False).std()\n",
    "    #Plot rolling statistics\n",
    "    orig = plt.plot(timeseries, color='blue', label='Original Time Series Data')\n",
    "    mean = plt.plot(rolmean, color='red', label='Rolling Mean')\n",
    "    std = plt.plot(rolstd, color='black', label='Rolling Standard Deviation')\n",
    "    plt.legend(loc='best')\n",
    "    plt.title('Rolling Mean & Standard Deviation')\n",
    "    plt.show(block=False)\n",
    "    print('Results of Dickey-Fuller Test:\\n')\n",
    "    dftest = adfuller(timeseries, autolag='AIC')\n",
    "    dfoutput = pd.Series(dftest[0:4], index=['Test Statistics', 'p-value' ,'#Lags Used', 'Number of Observations Used'])\n",
    "    for key, value in dftest[4].items():\n",
    "        dfoutput[f'Critical Value {key}'] = value\n",
    "        \n",
    "    \n",
    "    print(dfoutput)"
   ]
  },
  {
   "cell_type": "code",
   "execution_count": 56,
   "id": "ff466002",
   "metadata": {
    "ExecuteTime": {
     "end_time": "2022-01-26T14:05:37.947516Z",
     "start_time": "2022-01-26T14:05:37.711354Z"
    }
   },
   "outputs": [
    {
     "data": {
      "image/png": "[encoded data removed]",
      "text/plain": [
       "<Figure size 432x288 with 1 Axes>"
      ]
     },
     "metadata": {
      "needs_background": "light"
     },
     "output_type": "display_data"
    },
    {
     "name": "stdout",
     "output_type": "stream",
     "text": [
      "Results of Dickey-Fuller Test:\n",
      "\n",
      "Test Statistics                  -1.464216\n",
      "p-value                           0.551133\n",
      "#Lags Used                        0.000000\n",
      "Number of Observations Used    1308.000000\n",
      "Critical Value 1%                -3.435359\n",
      "Critical Value 5%                -2.863752\n",
      "Critical Value 10%               -2.567948\n",
      "dtype: float64\n"
     ]
    }
   ],
   "source": [
    "test_stationarity(oil)"
   ]
  },
  {
   "cell_type": "markdown",
   "id": "678095b5",
   "metadata": {},
   "source": [
    "#### Inferneces : weak evidence against null hypothesis, time series has a unit root, indicating it is non-stationary "
   ]
  },
  {
   "cell_type": "markdown",
   "id": "6c984168",
   "metadata": {
    "ExecuteTime": {
     "end_time": "2022-01-26T11:47:52.368912Z",
     "start_time": "2022-01-26T11:47:52.360930Z"
    }
   },
   "source": [
    "### Differencing"
   ]
  },
  {
   "cell_type": "code",
   "execution_count": 57,
   "id": "23a9a436",
   "metadata": {
    "ExecuteTime": {
     "end_time": "2022-01-26T14:05:40.745024Z",
     "start_time": "2022-01-26T14:05:40.732044Z"
    }
   },
   "outputs": [
    {
     "data": {
      "text/plain": [
       "Date\n",
       "2016-10-03          NaN\n",
       "2016-10-04     4.045251\n",
       "2016-10-05    15.489013\n",
       "2016-10-06    11.738106\n",
       "2016-10-07     7.259019\n",
       "                ...    \n",
       "2021-11-16    27.643965\n",
       "2021-11-17   -65.828452\n",
       "2021-11-18    53.648161\n",
       "2021-11-19   -66.472076\n",
       "2021-11-22    21.802225\n",
       "Name: SpotPrice, Length: 1309, dtype: float64"
      ]
     },
     "execution_count": 57,
     "metadata": {},
     "output_type": "execute_result"
    }
   ],
   "source": [
    "oil_diff= oil['SpotPrice'] - oil['SpotPrice'].shift(1)\n",
    "oil_diff"
   ]
  },
  {
   "cell_type": "code",
   "execution_count": 58,
   "id": "c7b96c08",
   "metadata": {
    "ExecuteTime": {
     "end_time": "2022-01-26T14:05:42.114213Z",
     "start_time": "2022-01-26T14:05:42.106212Z"
    }
   },
   "outputs": [
    {
     "data": {
      "text/plain": [
       "Date\n",
       "2016-10-04     4.045251\n",
       "2016-10-05    15.489013\n",
       "2016-10-06    11.738106\n",
       "2016-10-07     7.259019\n",
       "2016-10-10    22.011068\n",
       "                ...    \n",
       "2021-11-16    27.643965\n",
       "2021-11-17   -65.828452\n",
       "2021-11-18    53.648161\n",
       "2021-11-19   -66.472076\n",
       "2021-11-22    21.802225\n",
       "Name: SpotPrice, Length: 1308, dtype: float64"
      ]
     },
     "execution_count": 58,
     "metadata": {},
     "output_type": "execute_result"
    }
   ],
   "source": [
    "oil_diff.dropna()"
   ]
  },
  {
   "cell_type": "code",
   "execution_count": 59,
   "id": "19fb14d3",
   "metadata": {
    "ExecuteTime": {
     "end_time": "2022-01-26T14:05:43.460745Z",
     "start_time": "2022-01-26T14:05:43.232949Z"
    }
   },
   "outputs": [
    {
     "data": {
      "image/png": "[encoded data removed]",
      "text/plain": [
       "<Figure size 432x288 with 1 Axes>"
      ]
     },
     "metadata": {
      "needs_background": "light"
     },
     "output_type": "display_data"
    },
    {
     "name": "stdout",
     "output_type": "stream",
     "text": [
      "Results of Dickey-Fuller Test:\n",
      "\n",
      "Test Statistics                 -26.644772\n",
      "p-value                           0.000000\n",
      "#Lags Used                        1.000000\n",
      "Number of Observations Used    1306.000000\n",
      "Critical Value 1%                -3.435367\n",
      "Critical Value 5%                -2.863756\n",
      "Critical Value 10%               -2.567950\n",
      "dtype: float64\n"
     ]
    }
   ],
   "source": [
    "oil_diff.dropna(inplace=True)\n",
    "test_stationarity(oil_diff)"
   ]
  },
  {
   "cell_type": "markdown",
   "id": "96eb0e6d",
   "metadata": {
    "ExecuteTime": {
     "end_time": "2022-01-26T11:47:54.515680Z",
     "start_time": "2022-01-26T11:47:54.503719Z"
    }
   },
   "source": [
    "### log transformation"
   ]
  },
  {
   "cell_type": "code",
   "execution_count": 60,
   "id": "8dc84a31",
   "metadata": {
    "ExecuteTime": {
     "end_time": "2022-01-26T14:05:47.101328Z",
     "start_time": "2022-01-26T14:05:47.093281Z"
    }
   },
   "outputs": [],
   "source": [
    "#oil_log = np.log(oil)\n",
    "#oil_log_diff = oil_log - oil_log.shift()\n",
    "#_ = plt.plot(oil_log_diff)"
   ]
  },
  {
   "cell_type": "code",
   "execution_count": 61,
   "id": "5cd9fa6c",
   "metadata": {
    "ExecuteTime": {
     "end_time": "2022-01-26T14:05:47.382697Z",
     "start_time": "2022-01-26T14:05:47.378766Z"
    }
   },
   "outputs": [],
   "source": [
    "#oil_log_diff.dropna(inplace=True)\n",
    "#test_stationarity(oil_log_diff)"
   ]
  },
  {
   "cell_type": "code",
   "execution_count": 62,
   "id": "39cb0b74",
   "metadata": {
    "ExecuteTime": {
     "end_time": "2022-01-26T14:05:48.272278Z",
     "start_time": "2022-01-26T14:05:48.029553Z"
    }
   },
   "outputs": [
    {
     "data": {
      "text/plain": [
       "<AxesSubplot:xlabel='Date'>"
      ]
     },
     "execution_count": 62,
     "metadata": {},
     "output_type": "execute_result"
    },
    {
     "data": {
      "image/png": "[encoded data removed]",
      "text/plain": [
       "<Figure size 432x288 with 1 Axes>"
      ]
     },
     "metadata": {
      "needs_background": "light"
     },
     "output_type": "display_data"
    }
   ],
   "source": [
    "oil_diff.plot()"
   ]
  },
  {
   "cell_type": "code",
   "execution_count": 63,
   "id": "5618173b",
   "metadata": {
    "ExecuteTime": {
     "end_time": "2022-01-26T14:05:49.872558Z",
     "start_time": "2022-01-26T14:05:49.864490Z"
    }
   },
   "outputs": [],
   "source": [
    "#TestStationary.Plot(oil_diff)"
   ]
  },
  {
   "cell_type": "markdown",
   "id": "aebfcdeb",
   "metadata": {},
   "source": [
    "### Decomposition plot after differencing"
   ]
  },
  {
   "cell_type": "code",
   "execution_count": 64,
   "id": "6d466a77",
   "metadata": {
    "ExecuteTime": {
     "end_time": "2022-01-26T14:05:58.531656Z",
     "start_time": "2022-01-26T14:05:58.184239Z"
    }
   },
   "outputs": [
    {
     "data": {
      "image/png": "[encoded data removed]",
      "text/plain": [
       "<Figure size 432x288 with 4 Axes>"
      ]
     },
     "metadata": {
      "needs_background": "light"
     },
     "output_type": "display_data"
    }
   ],
   "source": [
    "decompose_ts_add = seasonal_decompose(oil_diff.dropna(),period=12)\n",
    "decompose_ts_add.plot()\n",
    "plt.show()"
   ]
  },
  {
   "cell_type": "markdown",
   "id": "7f3f8337",
   "metadata": {},
   "source": [
    "### ACF and PACF plot after differencing"
   ]
  },
  {
   "cell_type": "code",
   "execution_count": 65,
   "id": "626e192b",
   "metadata": {
    "ExecuteTime": {
     "end_time": "2022-01-26T14:06:02.030640Z",
     "start_time": "2022-01-26T14:06:01.806240Z"
    }
   },
   "outputs": [
    {
     "data": {
      "image/png": "[encoded data removed]",
      "text/plain": [
       "<Figure size 432x288 with 1 Axes>"
      ]
     },
     "metadata": {
      "needs_background": "light"
     },
     "output_type": "display_data"
    },
    {
     "data": {
      "image/png": "[encoded data removed]",
      "text/plain": [
       "<Figure size 432x288 with 1 Axes>"
      ]
     },
     "metadata": {
      "needs_background": "light"
     },
     "output_type": "display_data"
    }
   ],
   "source": [
    "tsa_plots.plot_acf(oil_diff.dropna(),lags=12)\n",
    "tsa_plots.plot_pacf(oil_diff.dropna(),lags=12)\n",
    "plt.show()"
   ]
  },
  {
   "cell_type": "markdown",
   "id": "9eb481b5",
   "metadata": {},
   "source": [
    "Inferences: In PACF plot we can clearly observe that at 1 correlation is shuting hence P value can be considered as 1 and ACR we can observe that correlation is exponentially decreased at value 1 hence either we can consider it as 0 or 1 hence q value is 1 and as we did only 1 time seasonal differencing hence d value is 1. "
   ]
  },
  {
   "cell_type": "code",
   "execution_count": 66,
   "id": "4522d606",
   "metadata": {
    "ExecuteTime": {
     "end_time": "2022-01-26T14:06:03.334531Z",
     "start_time": "2022-01-26T14:06:03.322583Z"
    }
   },
   "outputs": [
    {
     "data": {
      "text/html": [
       "<div>\n",
       "<style scoped>\n",
       "    .dataframe tbody tr th:only-of-type {\n",
       "        vertical-align: middle;\n",
       "    }\n",
       "\n",
       "    .dataframe tbody tr th {\n",
       "        vertical-align: top;\n",
       "    }\n",
       "\n",
       "    .dataframe thead th {\n",
       "        text-align: right;\n",
       "    }\n",
       "</style>\n",
       "<table border=\"1\" class=\"dataframe\">\n",
       "  <thead>\n",
       "    <tr style=\"text-align: right;\">\n",
       "      <th></th>\n",
       "      <th>SpotPrice</th>\n",
       "    </tr>\n",
       "    <tr>\n",
       "      <th>Date</th>\n",
       "      <th></th>\n",
       "    </tr>\n",
       "  </thead>\n",
       "  <tbody>\n",
       "    <tr>\n",
       "      <th>2016-10-03</th>\n",
       "      <td>551.847177</td>\n",
       "    </tr>\n",
       "    <tr>\n",
       "      <th>2016-10-04</th>\n",
       "      <td>555.892428</td>\n",
       "    </tr>\n",
       "    <tr>\n",
       "      <th>2016-10-05</th>\n",
       "      <td>571.381441</td>\n",
       "    </tr>\n",
       "    <tr>\n",
       "      <th>2016-10-06</th>\n",
       "      <td>583.119547</td>\n",
       "    </tr>\n",
       "    <tr>\n",
       "      <th>2016-10-07</th>\n",
       "      <td>590.378567</td>\n",
       "    </tr>\n",
       "    <tr>\n",
       "      <th>...</th>\n",
       "      <td>...</td>\n",
       "    </tr>\n",
       "    <tr>\n",
       "      <th>2021-11-16</th>\n",
       "      <td>1423.385726</td>\n",
       "    </tr>\n",
       "    <tr>\n",
       "      <th>2021-11-17</th>\n",
       "      <td>1357.557274</td>\n",
       "    </tr>\n",
       "    <tr>\n",
       "      <th>2021-11-18</th>\n",
       "      <td>1411.205435</td>\n",
       "    </tr>\n",
       "    <tr>\n",
       "      <th>2021-11-19</th>\n",
       "      <td>1344.733359</td>\n",
       "    </tr>\n",
       "    <tr>\n",
       "      <th>2021-11-22</th>\n",
       "      <td>1366.535583</td>\n",
       "    </tr>\n",
       "  </tbody>\n",
       "</table>\n",
       "<p>1309 rows × 1 columns</p>\n",
       "</div>"
      ],
      "text/plain": [
       "              SpotPrice\n",
       "Date                   \n",
       "2016-10-03   551.847177\n",
       "2016-10-04   555.892428\n",
       "2016-10-05   571.381441\n",
       "2016-10-06   583.119547\n",
       "2016-10-07   590.378567\n",
       "...                 ...\n",
       "2021-11-16  1423.385726\n",
       "2021-11-17  1357.557274\n",
       "2021-11-18  1411.205435\n",
       "2021-11-19  1344.733359\n",
       "2021-11-22  1366.535583\n",
       "\n",
       "[1309 rows x 1 columns]"
      ]
     },
     "execution_count": 66,
     "metadata": {},
     "output_type": "execute_result"
    }
   ],
   "source": [
    "oil"
   ]
  },
  {
   "cell_type": "code",
   "execution_count": 67,
   "id": "7a6a5931",
   "metadata": {
    "ExecuteTime": {
     "end_time": "2022-01-26T14:06:05.073176Z",
     "start_time": "2022-01-26T14:06:05.055734Z"
    }
   },
   "outputs": [
    {
     "data": {
      "text/plain": [
       "Date\n",
       "2016-10-04     4.045251\n",
       "2016-10-05    15.489013\n",
       "2016-10-06    11.738106\n",
       "2016-10-07     7.259019\n",
       "2016-10-10    22.011068\n",
       "                ...    \n",
       "2021-11-16    27.643965\n",
       "2021-11-17   -65.828452\n",
       "2021-11-18    53.648161\n",
       "2021-11-19   -66.472076\n",
       "2021-11-22    21.802225\n",
       "Name: SpotPrice, Length: 1308, dtype: float64"
      ]
     },
     "execution_count": 67,
     "metadata": {},
     "output_type": "execute_result"
    }
   ],
   "source": [
    "oil_diff"
   ]
  },
  {
   "cell_type": "markdown",
   "id": "ce72efb4",
   "metadata": {},
   "source": [
    "Inferences: Now we can observe above that data is stationary hence aborting the differencing method to proceed further.\n",
    "\n",
    "Note: the differencing method is done on purely experimental basis. We have first tried with 1 day shift and 12 day shift"
   ]
  },
  {
   "cell_type": "markdown",
   "id": "dc7a577a",
   "metadata": {},
   "source": [
    "### Auto Regressive Model"
   ]
  },
  {
   "cell_type": "markdown",
   "id": "8a83f25d",
   "metadata": {},
   "source": [
    "![image.png](attachment:image.png)"
   ]
  },
  {
   "cell_type": "markdown",
   "id": "372738a5",
   "metadata": {},
   "source": [
    "Autoregression is a time series model that uses observations from previous time steps as input to a regression equation to predict the value at the next time step.\n",
    "\n",
    "It is a very simple idea that can result in accurate forecasts on a range of time series problems.\n",
    "\n",
    "yt-1, yt-2....yt-p is nothing but lags. \n",
    "\n",
    "It helps in determine, In order to predict the SpotPrice of today how many previous day data we actually have to consider and this can only be done by auto co-relation plot.model"
   ]
  },
  {
   "cell_type": "markdown",
   "id": "b61b5376",
   "metadata": {},
   "source": [
    "\n",
    "Final Thoughts on Autocorrelation and Partial Autocorrelation\n",
    "\n",
    "    Identification of an AR model is often best done with the PACF.\n",
    "        For an AR model, the theoretical PACF “shuts off” past the order of the model. The phrase “shuts off” means that in theory the partial autocorrelations are equal to 0 beyond that point. Put another way, the number of non-zero partial autocorrelations gives the order of the AR model. By the “order of the model” we mean the most extreme lag of x that is used as a predictor.\n",
    "\n",
    "    Identification of an MA model is often best done with the ACF rather than the PACF.\n",
    "\n",
    "        For an MA model, the theoretical PACF does not shut off, but instead tapers toward 0 in some manner. A clearer pattern for an MA model is in the ACF. The ACF will have non-zero autocorrelations only at lags involved in the model.\n",
    "\n",
    "        p,d,q p AR model lags d differencing q MA lags\n",
    "\n",
    "Note: ARIMA is composed of 3 parts, AR = Auto Regression, I = Integrated (Differencing) and MA = Moving Average.\n",
    "\n",
    "      In ARIMA model we consider 3 values P = AR model lags, d =  differencing and q = Moving average lags \n"
   ]
  },
  {
   "cell_type": "code",
   "execution_count": 69,
   "id": "6cb6685a",
   "metadata": {
    "ExecuteTime": {
     "end_time": "2022-01-26T14:09:18.558788Z",
     "start_time": "2022-01-26T14:09:18.541845Z"
    }
   },
   "outputs": [],
   "source": [
    "#p--pACF---0    d--differenin---1 q---acf---0  order 010"
   ]
  },
  {
   "cell_type": "markdown",
   "id": "1df87160",
   "metadata": {},
   "source": [
    "### ARIMA Model"
   ]
  },
  {
   "cell_type": "code",
   "execution_count": 70,
   "id": "34c887f7",
   "metadata": {
    "ExecuteTime": {
     "end_time": "2022-01-26T14:09:40.795967Z",
     "start_time": "2022-01-26T14:09:40.779692Z"
    }
   },
   "outputs": [],
   "source": [
    "#p=0 , d= 1, q = 0 or 1\n",
    "from statsmodels.tsa.arima_model import ARIMA"
   ]
  },
  {
   "cell_type": "code",
   "execution_count": 71,
   "id": "7c778e1f",
   "metadata": {
    "ExecuteTime": {
     "end_time": "2022-01-26T14:09:41.330977Z",
     "start_time": "2022-01-26T14:09:41.290740Z"
    }
   },
   "outputs": [],
   "source": [
    "model = ARIMA(oil_diff, order = (0,1,0))\n",
    "model_fit = model.fit()"
   ]
  },
  {
   "cell_type": "code",
   "execution_count": 72,
   "id": "0bd9a083",
   "metadata": {
    "ExecuteTime": {
     "end_time": "2022-01-26T14:09:41.771867Z",
     "start_time": "2022-01-26T14:09:41.755872Z"
    }
   },
   "outputs": [
    {
     "data": {
      "text/html": [
       "<table class=\"simpletable\">\n",
       "<caption>ARIMA Model Results</caption>\n",
       "<tr>\n",
       "  <th>Dep. Variable:</th>    <td>D.SpotPrice</td>   <th>  No. Observations:  </th>   <td>1307</td>   \n",
       "</tr>\n",
       "<tr>\n",
       "  <th>Model:</th>          <td>ARIMA(0, 1, 0)</td>  <th>  Log Likelihood     </th> <td>-6764.425</td>\n",
       "</tr>\n",
       "<tr>\n",
       "  <th>Method:</th>               <td>css</td>       <th>  S.D. of innovations</th>  <td>42.803</td>  \n",
       "</tr>\n",
       "<tr>\n",
       "  <th>Date:</th>          <td>Wed, 26 Jan 2022</td> <th>  AIC                </th> <td>13532.850</td>\n",
       "</tr>\n",
       "<tr>\n",
       "  <th>Time:</th>              <td>19:39:41</td>     <th>  BIC                </th> <td>13543.201</td>\n",
       "</tr>\n",
       "<tr>\n",
       "  <th>Sample:</th>                <td>1</td>        <th>  HQIC               </th> <td>13536.733</td>\n",
       "</tr>\n",
       "<tr>\n",
       "  <th></th>                       <td> </td>        <th>                     </th>     <td> </td>    \n",
       "</tr>\n",
       "</table>\n",
       "<table class=\"simpletable\">\n",
       "<tr>\n",
       "    <td></td>       <th>coef</th>     <th>std err</th>      <th>z</th>      <th>P>|z|</th>  <th>[0.025</th>    <th>0.975]</th>  \n",
       "</tr>\n",
       "<tr>\n",
       "  <th>const</th> <td>    0.0136</td> <td>    1.184</td> <td>    0.011</td> <td> 0.991</td> <td>   -2.307</td> <td>    2.334</td>\n",
       "</tr>\n",
       "</table>"
      ],
      "text/plain": [
       "<class 'statsmodels.iolib.summary.Summary'>\n",
       "\"\"\"\n",
       "                             ARIMA Model Results                              \n",
       "==============================================================================\n",
       "Dep. Variable:            D.SpotPrice   No. Observations:                 1307\n",
       "Model:                 ARIMA(0, 1, 0)   Log Likelihood               -6764.425\n",
       "Method:                           css   S.D. of innovations             42.803\n",
       "Date:                Wed, 26 Jan 2022   AIC                          13532.850\n",
       "Time:                        19:39:41   BIC                          13543.201\n",
       "Sample:                             1   HQIC                         13536.733\n",
       "                                                                              \n",
       "==============================================================================\n",
       "                 coef    std err          z      P>|z|      [0.025      0.975]\n",
       "------------------------------------------------------------------------------\n",
       "const          0.0136      1.184      0.011      0.991      -2.307       2.334\n",
       "==============================================================================\n",
       "\"\"\""
      ]
     },
     "execution_count": 72,
     "metadata": {},
     "output_type": "execute_result"
    }
   ],
   "source": [
    "model_fit.summary()"
   ]
  },
  {
   "cell_type": "code",
   "execution_count": 73,
   "id": "d888898d",
   "metadata": {
    "ExecuteTime": {
     "end_time": "2022-01-26T14:09:43.362683Z",
     "start_time": "2022-01-26T14:09:43.338666Z"
    }
   },
   "outputs": [
    {
     "data": {
      "text/plain": [
       "[(0, 0, 0),\n",
       " (0, 0, 1),\n",
       " (0, 0, 2),\n",
       " (0, 0, 3),\n",
       " (0, 0, 4),\n",
       " (0, 1, 0),\n",
       " (0, 1, 1),\n",
       " (0, 1, 2),\n",
       " (0, 1, 3),\n",
       " (0, 1, 4),\n",
       " (0, 2, 0),\n",
       " (0, 2, 1),\n",
       " (0, 2, 2),\n",
       " (0, 2, 3),\n",
       " (0, 2, 4),\n",
       " (0, 3, 0),\n",
       " (0, 3, 1),\n",
       " (0, 3, 2),\n",
       " (0, 3, 3),\n",
       " (0, 3, 4),\n",
       " (0, 4, 0),\n",
       " (0, 4, 1),\n",
       " (0, 4, 2),\n",
       " (0, 4, 3),\n",
       " (0, 4, 4),\n",
       " (1, 0, 0),\n",
       " (1, 0, 1),\n",
       " (1, 0, 2),\n",
       " (1, 0, 3),\n",
       " (1, 0, 4),\n",
       " (1, 1, 0),\n",
       " (1, 1, 1),\n",
       " (1, 1, 2),\n",
       " (1, 1, 3),\n",
       " (1, 1, 4),\n",
       " (1, 2, 0),\n",
       " (1, 2, 1),\n",
       " (1, 2, 2),\n",
       " (1, 2, 3),\n",
       " (1, 2, 4),\n",
       " (1, 3, 0),\n",
       " (1, 3, 1),\n",
       " (1, 3, 2),\n",
       " (1, 3, 3),\n",
       " (1, 3, 4),\n",
       " (1, 4, 0),\n",
       " (1, 4, 1),\n",
       " (1, 4, 2),\n",
       " (1, 4, 3),\n",
       " (1, 4, 4),\n",
       " (2, 0, 0),\n",
       " (2, 0, 1),\n",
       " (2, 0, 2),\n",
       " (2, 0, 3),\n",
       " (2, 0, 4),\n",
       " (2, 1, 0),\n",
       " (2, 1, 1),\n",
       " (2, 1, 2),\n",
       " (2, 1, 3),\n",
       " (2, 1, 4),\n",
       " (2, 2, 0),\n",
       " (2, 2, 1),\n",
       " (2, 2, 2),\n",
       " (2, 2, 3),\n",
       " (2, 2, 4),\n",
       " (2, 3, 0),\n",
       " (2, 3, 1),\n",
       " (2, 3, 2),\n",
       " (2, 3, 3),\n",
       " (2, 3, 4),\n",
       " (2, 4, 0),\n",
       " (2, 4, 1),\n",
       " (2, 4, 2),\n",
       " (2, 4, 3),\n",
       " (2, 4, 4),\n",
       " (3, 0, 0),\n",
       " (3, 0, 1),\n",
       " (3, 0, 2),\n",
       " (3, 0, 3),\n",
       " (3, 0, 4),\n",
       " (3, 1, 0),\n",
       " (3, 1, 1),\n",
       " (3, 1, 2),\n",
       " (3, 1, 3),\n",
       " (3, 1, 4),\n",
       " (3, 2, 0),\n",
       " (3, 2, 1),\n",
       " (3, 2, 2),\n",
       " (3, 2, 3),\n",
       " (3, 2, 4),\n",
       " (3, 3, 0),\n",
       " (3, 3, 1),\n",
       " (3, 3, 2),\n",
       " (3, 3, 3),\n",
       " (3, 3, 4),\n",
       " (3, 4, 0),\n",
       " (3, 4, 1),\n",
       " (3, 4, 2),\n",
       " (3, 4, 3),\n",
       " (3, 4, 4),\n",
       " (4, 0, 0),\n",
       " (4, 0, 1),\n",
       " (4, 0, 2),\n",
       " (4, 0, 3),\n",
       " (4, 0, 4),\n",
       " (4, 1, 0),\n",
       " (4, 1, 1),\n",
       " (4, 1, 2),\n",
       " (4, 1, 3),\n",
       " (4, 1, 4),\n",
       " (4, 2, 0),\n",
       " (4, 2, 1),\n",
       " (4, 2, 2),\n",
       " (4, 2, 3),\n",
       " (4, 2, 4),\n",
       " (4, 3, 0),\n",
       " (4, 3, 1),\n",
       " (4, 3, 2),\n",
       " (4, 3, 3),\n",
       " (4, 3, 4),\n",
       " (4, 4, 0),\n",
       " (4, 4, 1),\n",
       " (4, 4, 2),\n",
       " (4, 4, 3),\n",
       " (4, 4, 4)]"
      ]
     },
     "execution_count": 73,
     "metadata": {},
     "output_type": "execute_result"
    }
   ],
   "source": [
    "import itertools\n",
    "p=d=q=range(0,5)\n",
    "pdq = list(itertools.product(p,d,q))\n",
    "pdq"
   ]
  },
  {
   "cell_type": "code",
   "execution_count": 74,
   "id": "919bcd9e",
   "metadata": {
    "ExecuteTime": {
     "end_time": "2022-01-26T14:11:16.568057Z",
     "start_time": "2022-01-26T14:09:47.906754Z"
    }
   },
   "outputs": [
    {
     "name": "stdout",
     "output_type": "stream",
     "text": [
      "(0, 0, 0) 12622.318485415655\n",
      "(0, 0, 1) 12624.166246911132\n",
      "(0, 0, 2) 12624.307363966422\n",
      "(0, 0, 3) 12626.178743792796\n",
      "(0, 0, 4) 12628.142080920397\n",
      "(0, 1, 0) 13532.850458942252\n",
      "(0, 1, 1) 12622.656249938\n",
      "(0, 1, 2) 12624.522054003157\n",
      "(0, 1, 3) 12624.719545025517\n",
      "(0, 1, 4) 12626.57761358399\n",
      "(0, 2, 0) 14944.295834020264\n",
      "(0, 2, 1) 13532.673918478364\n",
      "(0, 2, 2) 12637.760558103788\n",
      "(0, 2, 3) 12641.3349811478\n",
      "(0, 2, 4) 12642.415246920677\n",
      "(1, 0, 0) 12624.177797561306\n",
      "(1, 0, 1) 12625.734790515042\n",
      "(1, 0, 2) 12622.879680841485\n",
      "(1, 0, 3) 12623.713550480734\n",
      "(1, 0, 4) 12625.229134883593\n",
      "(1, 1, 0) 13182.16294901675\n",
      "(1, 1, 1) 12624.532138684659\n",
      "(1, 1, 2) 12622.455098760673\n",
      "(1, 1, 3) 12623.252066697865\n",
      "(1, 1, 4) 12626.479295311674\n",
      "(1, 2, 0) 14225.981978793881\n",
      "(1, 2, 3) 12637.989362423838\n",
      "(2, 0, 0) 12624.275327134044\n",
      "(2, 0, 1) 12622.93060531927\n",
      "(2, 0, 2) 12624.58214018905\n",
      "(2, 0, 3) 12624.629915458476\n",
      "(2, 0, 4) 12624.485480527466\n",
      "(2, 1, 0) 13007.157024370736\n",
      "(2, 1, 1) 12624.68622539992\n",
      "(2, 1, 2) 12626.636704835806\n",
      "(2, 1, 3) 12617.081460970372\n",
      "(2, 1, 4) 12625.073549705157\n",
      "(2, 2, 0) 13837.83976713088\n",
      "(2, 2, 4) 12640.235246302955\n",
      "(3, 0, 0) 12626.23804565443\n",
      "(3, 0, 1) 12624.215690190278\n",
      "(3, 0, 2) 12624.879261334936\n",
      "(3, 0, 3) 12616.169571890732\n",
      "(3, 0, 4) 12617.8603232566\n",
      "(3, 1, 0) 12917.229263818403\n",
      "(3, 1, 1) 12626.640306582363\n",
      "(3, 1, 2) 12624.879778130391\n",
      "(3, 1, 3) 12624.927312096586\n",
      "(3, 1, 4) 12618.608407688998\n",
      "(3, 2, 0) 13624.354453048789\n",
      "(4, 0, 0) 12628.229236474292\n",
      "(4, 0, 1) 12625.529797994715\n",
      "(4, 0, 2) 12624.968636708772\n",
      "(4, 0, 3) 12617.865443891647\n",
      "(4, 0, 4) 12619.308817960578\n",
      "(4, 1, 0) 12839.535052742718\n",
      "(4, 1, 1) 12628.627743399587\n",
      "(4, 1, 2) 12626.687679273768\n",
      "(4, 1, 3) 12623.189909777722\n",
      "(4, 1, 4) 12624.584896716036\n",
      "(4, 2, 0) 13440.106576931103\n"
     ]
    }
   ],
   "source": [
    "for param in pdq:\n",
    "    try:\n",
    "        model_arima = ARIMA(oil_diff.dropna(),order=param)\n",
    "        model_arima_fit = model_arima.fit()\n",
    "        print(param,model_arima_fit.aic)\n",
    "    except:\n",
    "        continue"
   ]
  },
  {
   "cell_type": "markdown",
   "id": "0fcd2b89",
   "metadata": {},
   "source": [
    "#### Splitting Dataset"
   ]
  },
  {
   "cell_type": "code",
   "execution_count": 75,
   "id": "84460325",
   "metadata": {
    "ExecuteTime": {
     "end_time": "2022-01-26T14:11:49.750271Z",
     "start_time": "2022-01-26T14:11:49.732512Z"
    }
   },
   "outputs": [],
   "source": [
    "train_ar = oil_diff.head(1083)\n",
    "test_ar = oil_diff.tail(226)"
   ]
  },
  {
   "cell_type": "code",
   "execution_count": 76,
   "id": "1441df07",
   "metadata": {
    "ExecuteTime": {
     "end_time": "2022-01-26T14:11:51.221284Z",
     "start_time": "2022-01-26T14:11:51.209289Z"
    }
   },
   "outputs": [
    {
     "data": {
      "text/plain": [
       "Date\n",
       "2016-10-04     4.045251\n",
       "2016-10-05    15.489013\n",
       "2016-10-06    11.738106\n",
       "2016-10-07     7.259019\n",
       "2016-10-10    22.011068\n",
       "                ...    \n",
       "2020-12-28     0.000000\n",
       "2020-12-29    -9.174004\n",
       "2020-12-30     6.248315\n",
       "2020-12-31    10.056885\n",
       "2021-01-04   -17.759014\n",
       "Name: SpotPrice, Length: 1083, dtype: float64"
      ]
     },
     "execution_count": 76,
     "metadata": {},
     "output_type": "execute_result"
    }
   ],
   "source": [
    "train_ar"
   ]
  },
  {
   "cell_type": "code",
   "execution_count": 77,
   "id": "cda220f2",
   "metadata": {
    "ExecuteTime": {
     "end_time": "2022-01-26T14:11:52.034674Z",
     "start_time": "2022-01-26T14:11:52.022592Z"
    }
   },
   "outputs": [
    {
     "data": {
      "text/plain": [
       "Date\n",
       "2021-01-04   -17.759014\n",
       "2021-01-05    59.149723\n",
       "2021-01-06    13.915231\n",
       "2021-01-07    -2.182746\n",
       "2021-01-08    39.992806\n",
       "                ...    \n",
       "2021-11-16    27.643965\n",
       "2021-11-17   -65.828452\n",
       "2021-11-18    53.648161\n",
       "2021-11-19   -66.472076\n",
       "2021-11-22    21.802225\n",
       "Name: SpotPrice, Length: 226, dtype: float64"
      ]
     },
     "execution_count": 77,
     "metadata": {},
     "output_type": "execute_result"
    }
   ],
   "source": [
    "test_ar"
   ]
  },
  {
   "cell_type": "code",
   "execution_count": 78,
   "id": "72b62757",
   "metadata": {
    "ExecuteTime": {
     "end_time": "2022-01-26T14:11:53.630721Z",
     "start_time": "2022-01-26T14:11:53.614286Z"
    }
   },
   "outputs": [],
   "source": [
    "train_ar = pd.DataFrame(train_ar)"
   ]
  },
  {
   "cell_type": "code",
   "execution_count": 79,
   "id": "387a4346",
   "metadata": {
    "ExecuteTime": {
     "end_time": "2022-01-26T14:11:54.151544Z",
     "start_time": "2022-01-26T14:11:54.127539Z"
    }
   },
   "outputs": [
    {
     "data": {
      "text/html": [
       "<div>\n",
       "<style scoped>\n",
       "    .dataframe tbody tr th:only-of-type {\n",
       "        vertical-align: middle;\n",
       "    }\n",
       "\n",
       "    .dataframe tbody tr th {\n",
       "        vertical-align: top;\n",
       "    }\n",
       "\n",
       "    .dataframe thead th {\n",
       "        text-align: right;\n",
       "    }\n",
       "</style>\n",
       "<table border=\"1\" class=\"dataframe\">\n",
       "  <thead>\n",
       "    <tr style=\"text-align: right;\">\n",
       "      <th></th>\n",
       "      <th>SpotPrice</th>\n",
       "    </tr>\n",
       "    <tr>\n",
       "      <th>Date</th>\n",
       "      <th></th>\n",
       "    </tr>\n",
       "  </thead>\n",
       "  <tbody>\n",
       "    <tr>\n",
       "      <th>2016-10-04</th>\n",
       "      <td>4.045251</td>\n",
       "    </tr>\n",
       "    <tr>\n",
       "      <th>2016-10-05</th>\n",
       "      <td>15.489013</td>\n",
       "    </tr>\n",
       "    <tr>\n",
       "      <th>2016-10-06</th>\n",
       "      <td>11.738106</td>\n",
       "    </tr>\n",
       "    <tr>\n",
       "      <th>2016-10-07</th>\n",
       "      <td>7.259019</td>\n",
       "    </tr>\n",
       "    <tr>\n",
       "      <th>2016-10-10</th>\n",
       "      <td>22.011068</td>\n",
       "    </tr>\n",
       "    <tr>\n",
       "      <th>...</th>\n",
       "      <td>...</td>\n",
       "    </tr>\n",
       "    <tr>\n",
       "      <th>2020-12-28</th>\n",
       "      <td>0.000000</td>\n",
       "    </tr>\n",
       "    <tr>\n",
       "      <th>2020-12-29</th>\n",
       "      <td>-9.174004</td>\n",
       "    </tr>\n",
       "    <tr>\n",
       "      <th>2020-12-30</th>\n",
       "      <td>6.248315</td>\n",
       "    </tr>\n",
       "    <tr>\n",
       "      <th>2020-12-31</th>\n",
       "      <td>10.056885</td>\n",
       "    </tr>\n",
       "    <tr>\n",
       "      <th>2021-01-04</th>\n",
       "      <td>-17.759014</td>\n",
       "    </tr>\n",
       "  </tbody>\n",
       "</table>\n",
       "<p>1083 rows × 1 columns</p>\n",
       "</div>"
      ],
      "text/plain": [
       "            SpotPrice\n",
       "Date                 \n",
       "2016-10-04   4.045251\n",
       "2016-10-05  15.489013\n",
       "2016-10-06  11.738106\n",
       "2016-10-07   7.259019\n",
       "2016-10-10  22.011068\n",
       "...               ...\n",
       "2020-12-28   0.000000\n",
       "2020-12-29  -9.174004\n",
       "2020-12-30   6.248315\n",
       "2020-12-31  10.056885\n",
       "2021-01-04 -17.759014\n",
       "\n",
       "[1083 rows x 1 columns]"
      ]
     },
     "execution_count": 79,
     "metadata": {},
     "output_type": "execute_result"
    }
   ],
   "source": [
    "train_ar"
   ]
  },
  {
   "cell_type": "markdown",
   "id": "41649b83",
   "metadata": {},
   "source": [
    "#### Evaluation metric as MAPE (Mean Absolute Percentage Error)"
   ]
  },
  {
   "cell_type": "markdown",
   "id": "cc0fc356",
   "metadata": {},
   "source": [
    "# ARIMA"
   ]
  },
  {
   "cell_type": "code",
   "execution_count": 82,
   "id": "58643004",
   "metadata": {
    "ExecuteTime": {
     "end_time": "2022-01-26T14:13:09.223422Z",
     "start_time": "2022-01-26T14:13:09.206429Z"
    }
   },
   "outputs": [],
   "source": [
    "from sklearn.metrics import mean_absolute_percentage_error"
   ]
  },
  {
   "cell_type": "code",
   "execution_count": 83,
   "id": "799a33fb",
   "metadata": {
    "ExecuteTime": {
     "end_time": "2022-01-26T14:13:09.757191Z",
     "start_time": "2022-01-26T14:13:09.745189Z"
    }
   },
   "outputs": [
    {
     "data": {
      "text/plain": [
       "4.334031751599167e+16"
      ]
     },
     "execution_count": 83,
     "metadata": {},
     "output_type": "execute_result"
    }
   ],
   "source": [
    "ARIMAmodel = ARIMA(train_ar, order=(0, 1, 0)) #notice p,d and q value here\n",
    "ARIMA_model_fit = ARIMAmodel.fit()\n",
    "\n",
    "ARIMA_pred = ARIMA_model_fit.predict(1083,1308,typ='levels')\n",
    "mean_absolute_percentage_error(test_ar,ARIMA_pred)*100"
   ]
  },
  {
   "cell_type": "markdown",
   "id": "3d4e2872",
   "metadata": {},
   "source": [
    "Inferences : As there is a seansonality in dataset ARIMA model is not considered to be best and SARIMA model works best in cases of Seasonality in dataset hence using SARIMA model for predictions"
   ]
  },
  {
   "cell_type": "markdown",
   "id": "7f28c034",
   "metadata": {},
   "source": [
    "# SARIMA"
   ]
  },
  {
   "cell_type": "markdown",
   "id": "db413590",
   "metadata": {},
   "source": [
    "#### Considering Seasonality in Arima it becomes SARIMA"
   ]
  },
  {
   "cell_type": "markdown",
   "id": "0af8355c",
   "metadata": {},
   "source": [
    "#### Testset"
   ]
  },
  {
   "cell_type": "code",
   "execution_count": 84,
   "id": "b75b20e2",
   "metadata": {
    "ExecuteTime": {
     "end_time": "2022-01-26T14:14:44.548161Z",
     "start_time": "2022-01-26T14:14:44.460532Z"
    }
   },
   "outputs": [
    {
     "data": {
      "text/plain": [
       "1.1192681593751752e+18"
      ]
     },
     "execution_count": 84,
     "metadata": {},
     "output_type": "execute_result"
    }
   ],
   "source": [
    "import statsmodels.api as sm\n",
    "SARIMAmodel = sm.tsa.statespace.SARIMAX(train_ar, order=(0,1,0),seasonal_order = (0,1,0,5))\n",
    "SARIMA_model_fit = SARIMAmodel.fit()\n",
    "\n",
    "SARIMA_pred = SARIMA_model_fit.predict(1083,1308,typ='levels')\n",
    "mean_absolute_percentage_error(test_ar,SARIMA_pred)*100"
   ]
  },
  {
   "cell_type": "markdown",
   "id": "a8b36792",
   "metadata": {},
   "source": [
    "#### Trainset"
   ]
  },
  {
   "cell_type": "code",
   "execution_count": 85,
   "id": "c4f59c3f",
   "metadata": {
    "ExecuteTime": {
     "end_time": "2022-01-26T14:15:11.942853Z",
     "start_time": "2022-01-26T14:15:11.875854Z"
    }
   },
   "outputs": [
    {
     "data": {
      "text/plain": [
       "1.310831514216429e+17"
      ]
     },
     "execution_count": 85,
     "metadata": {},
     "output_type": "execute_result"
    }
   ],
   "source": [
    "import statsmodels.api as sm\n",
    "SARIMAmodel1 = sm.tsa.statespace.SARIMAX(train_ar, order=(0,1,0),seasonal_order = (0,1,0,5))\n",
    "SARIMA_model_fit1 = SARIMAmodel1.fit()\n",
    "\n",
    "SARIMA_pred1 = SARIMA_model_fit1.predict(1,1083,typ='levels')\n",
    "mean_absolute_percentage_error(train_ar,SARIMA_pred1)*100"
   ]
  },
  {
   "cell_type": "code",
   "execution_count": null,
   "id": "751f94db",
   "metadata": {},
   "outputs": [],
   "source": []
  },
  {
   "cell_type": "code",
   "execution_count": null,
   "id": "ffa30e38",
   "metadata": {},
   "outputs": [],
   "source": []
  }
 ],
 "metadata": {
  "kernelspec": {
   "display_name": "Python 3",
   "language": "python",
   "name": "python3"
  },
  "language_info": {
   "codemirror_mode": {
    "name": "ipython",
    "version": 3
   },
   "file_extension": ".py",
   "mimetype": "text/x-python",
   "name": "python",
   "nbconvert_exporter": "python",
   "pygments_lexer": "ipython3",
   "version": "3.8.8"
  },
  "varInspector": {
   "cols": {
    "lenName": 16,
    "lenType": 16,
    "lenVar": 40
   },
   "kernels_config": {
    "python": {
     "delete_cmd_postfix": "",
     "delete_cmd_prefix": "del ",
     "library": "var_list.py",
     "varRefreshCmd": "print(var_dic_list())"
    },
    "r": {
     "delete_cmd_postfix": ") ",
     "delete_cmd_prefix": "rm(",
     "library": "var_list.r",
     "varRefreshCmd": "cat(var_dic_list()) "
    }
   },
   "types_to_exclude": [
    "module",
    "function",
    "builtin_function_or_method",
    "instance",
    "_Feature"
   ],
   "window_display": false
  }
 },
 "nbformat": 4,
 "nbformat_minor": 5
}
